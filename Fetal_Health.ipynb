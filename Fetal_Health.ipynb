{
  "nbformat": 4,
  "nbformat_minor": 0,
  "metadata": {
    "colab": {
      "name": "Group244_Fetal Health.ipynb",
      "provenance": [],
      "collapsed_sections": []
    },
    "kernelspec": {
      "name": "python3",
      "display_name": "Python 3"
    },
    "language_info": {
      "name": "python"
    }
  },
  "cells": [
    {
      "cell_type": "markdown",
      "source": [
        "# 1.  **IMPORTING REQUIRED MODULES/LIBRARIES**"
      ],
      "metadata": {
        "id": "I5KdGo0bfPea"
      }
    },
    {
      "cell_type": "code",
      "source": [
        "import warnings\n",
        "warnings.filterwarnings('ignore')\n",
        "\n",
        "import numpy as np \n",
        "import pandas as pd \n",
        "import matplotlib.pyplot as plt\n",
        "import seaborn as sns\n",
        "import missingno as msno\n",
        "\n",
        "from sklearn.model_selection import train_test_split\n",
        "from sklearn.preprocessing import StandardScaler\n",
        "from sklearn.model_selection import GridSearchCV\n",
        "\n",
        "\n",
        "from sklearn.tree import DecisionTreeClassifier\n",
        "\n",
        "from sklearn.model_selection import cross_val_score\n",
        "from sklearn.metrics import confusion_matrix, classification_report, accuracy_score\n",
        "from sklearn import metrics\n",
        "from sklearn.metrics import roc_curve, auc, roc_auc_score"
      ],
      "metadata": {
        "id": "sWd2Bmo6fPPS"
      },
      "execution_count": null,
      "outputs": []
    },
    {
      "cell_type": "markdown",
      "source": [
        "#2.  **Data Acquisition**"
      ],
      "metadata": {
        "id": "GlW7JoTyfEsn"
      }
    },
    {
      "cell_type": "code",
      "execution_count": null,
      "metadata": {
        "id": "uWOUjDFLdfpN"
      },
      "outputs": [],
      "source": [
        "# Importing dataset\n",
        "path= \"https://raw.githubusercontent.com/snakessilver/Fetal-Health/main/fetal_health.csv\"\n",
        "df= pd.read_csv(path)"
      ]
    },
    {
      "cell_type": "code",
      "source": [
        "# Displaying the first 5 lines of dataset\n",
        "df.head()"
      ],
      "metadata": {
        "colab": {
          "base_uri": "https://localhost:8080/",
          "height": 317
        },
        "id": "I7o6DXaMgBgt",
        "outputId": "b6b74465-3154-42f6-e34b-7fbcbde5f154"
      },
      "execution_count": null,
      "outputs": [
        {
          "output_type": "execute_result",
          "data": {
            "text/plain": [
              "   baseline value  accelerations  fetal_movement  uterine_contractions  \\\n",
              "0           120.0          0.000             0.0                 0.000   \n",
              "1           132.0          0.006             0.0                 0.006   \n",
              "2           133.0          0.003             0.0                 0.008   \n",
              "3           134.0          0.003             0.0                 0.008   \n",
              "4           132.0          0.007             0.0                 0.008   \n",
              "\n",
              "   light_decelerations  severe_decelerations  prolongued_decelerations  \\\n",
              "0                0.000                   0.0                       0.0   \n",
              "1                0.003                   0.0                       0.0   \n",
              "2                0.003                   0.0                       0.0   \n",
              "3                0.003                   0.0                       0.0   \n",
              "4                0.000                   0.0                       0.0   \n",
              "\n",
              "   abnormal_short_term_variability  mean_value_of_short_term_variability  \\\n",
              "0                             73.0                                   0.5   \n",
              "1                             17.0                                   2.1   \n",
              "2                             16.0                                   2.1   \n",
              "3                             16.0                                   2.4   \n",
              "4                             16.0                                   2.4   \n",
              "\n",
              "   percentage_of_time_with_abnormal_long_term_variability  ...  histogram_min  \\\n",
              "0                                               43.0       ...           62.0   \n",
              "1                                                0.0       ...           68.0   \n",
              "2                                                0.0       ...           68.0   \n",
              "3                                                0.0       ...           53.0   \n",
              "4                                                0.0       ...           53.0   \n",
              "\n",
              "   histogram_max  histogram_number_of_peaks  histogram_number_of_zeroes  \\\n",
              "0          126.0                        2.0                         0.0   \n",
              "1          198.0                        6.0                         1.0   \n",
              "2          198.0                        5.0                         1.0   \n",
              "3          170.0                       11.0                         0.0   \n",
              "4          170.0                        9.0                         0.0   \n",
              "\n",
              "   histogram_mode  histogram_mean  histogram_median  histogram_variance  \\\n",
              "0           120.0           137.0             121.0                73.0   \n",
              "1           141.0           136.0             140.0                12.0   \n",
              "2           141.0           135.0             138.0                13.0   \n",
              "3           137.0           134.0             137.0                13.0   \n",
              "4           137.0           136.0             138.0                11.0   \n",
              "\n",
              "   histogram_tendency  fetal_health  \n",
              "0                 1.0           2.0  \n",
              "1                 0.0           1.0  \n",
              "2                 0.0           1.0  \n",
              "3                 1.0           1.0  \n",
              "4                 1.0           1.0  \n",
              "\n",
              "[5 rows x 22 columns]"
            ],
            "text/html": [
              "\n",
              "  <div id=\"df-52642228-bc93-4b2a-89f3-de9fcc0edc89\">\n",
              "    <div class=\"colab-df-container\">\n",
              "      <div>\n",
              "<style scoped>\n",
              "    .dataframe tbody tr th:only-of-type {\n",
              "        vertical-align: middle;\n",
              "    }\n",
              "\n",
              "    .dataframe tbody tr th {\n",
              "        vertical-align: top;\n",
              "    }\n",
              "\n",
              "    .dataframe thead th {\n",
              "        text-align: right;\n",
              "    }\n",
              "</style>\n",
              "<table border=\"1\" class=\"dataframe\">\n",
              "  <thead>\n",
              "    <tr style=\"text-align: right;\">\n",
              "      <th></th>\n",
              "      <th>baseline value</th>\n",
              "      <th>accelerations</th>\n",
              "      <th>fetal_movement</th>\n",
              "      <th>uterine_contractions</th>\n",
              "      <th>light_decelerations</th>\n",
              "      <th>severe_decelerations</th>\n",
              "      <th>prolongued_decelerations</th>\n",
              "      <th>abnormal_short_term_variability</th>\n",
              "      <th>mean_value_of_short_term_variability</th>\n",
              "      <th>percentage_of_time_with_abnormal_long_term_variability</th>\n",
              "      <th>...</th>\n",
              "      <th>histogram_min</th>\n",
              "      <th>histogram_max</th>\n",
              "      <th>histogram_number_of_peaks</th>\n",
              "      <th>histogram_number_of_zeroes</th>\n",
              "      <th>histogram_mode</th>\n",
              "      <th>histogram_mean</th>\n",
              "      <th>histogram_median</th>\n",
              "      <th>histogram_variance</th>\n",
              "      <th>histogram_tendency</th>\n",
              "      <th>fetal_health</th>\n",
              "    </tr>\n",
              "  </thead>\n",
              "  <tbody>\n",
              "    <tr>\n",
              "      <th>0</th>\n",
              "      <td>120.0</td>\n",
              "      <td>0.000</td>\n",
              "      <td>0.0</td>\n",
              "      <td>0.000</td>\n",
              "      <td>0.000</td>\n",
              "      <td>0.0</td>\n",
              "      <td>0.0</td>\n",
              "      <td>73.0</td>\n",
              "      <td>0.5</td>\n",
              "      <td>43.0</td>\n",
              "      <td>...</td>\n",
              "      <td>62.0</td>\n",
              "      <td>126.0</td>\n",
              "      <td>2.0</td>\n",
              "      <td>0.0</td>\n",
              "      <td>120.0</td>\n",
              "      <td>137.0</td>\n",
              "      <td>121.0</td>\n",
              "      <td>73.0</td>\n",
              "      <td>1.0</td>\n",
              "      <td>2.0</td>\n",
              "    </tr>\n",
              "    <tr>\n",
              "      <th>1</th>\n",
              "      <td>132.0</td>\n",
              "      <td>0.006</td>\n",
              "      <td>0.0</td>\n",
              "      <td>0.006</td>\n",
              "      <td>0.003</td>\n",
              "      <td>0.0</td>\n",
              "      <td>0.0</td>\n",
              "      <td>17.0</td>\n",
              "      <td>2.1</td>\n",
              "      <td>0.0</td>\n",
              "      <td>...</td>\n",
              "      <td>68.0</td>\n",
              "      <td>198.0</td>\n",
              "      <td>6.0</td>\n",
              "      <td>1.0</td>\n",
              "      <td>141.0</td>\n",
              "      <td>136.0</td>\n",
              "      <td>140.0</td>\n",
              "      <td>12.0</td>\n",
              "      <td>0.0</td>\n",
              "      <td>1.0</td>\n",
              "    </tr>\n",
              "    <tr>\n",
              "      <th>2</th>\n",
              "      <td>133.0</td>\n",
              "      <td>0.003</td>\n",
              "      <td>0.0</td>\n",
              "      <td>0.008</td>\n",
              "      <td>0.003</td>\n",
              "      <td>0.0</td>\n",
              "      <td>0.0</td>\n",
              "      <td>16.0</td>\n",
              "      <td>2.1</td>\n",
              "      <td>0.0</td>\n",
              "      <td>...</td>\n",
              "      <td>68.0</td>\n",
              "      <td>198.0</td>\n",
              "      <td>5.0</td>\n",
              "      <td>1.0</td>\n",
              "      <td>141.0</td>\n",
              "      <td>135.0</td>\n",
              "      <td>138.0</td>\n",
              "      <td>13.0</td>\n",
              "      <td>0.0</td>\n",
              "      <td>1.0</td>\n",
              "    </tr>\n",
              "    <tr>\n",
              "      <th>3</th>\n",
              "      <td>134.0</td>\n",
              "      <td>0.003</td>\n",
              "      <td>0.0</td>\n",
              "      <td>0.008</td>\n",
              "      <td>0.003</td>\n",
              "      <td>0.0</td>\n",
              "      <td>0.0</td>\n",
              "      <td>16.0</td>\n",
              "      <td>2.4</td>\n",
              "      <td>0.0</td>\n",
              "      <td>...</td>\n",
              "      <td>53.0</td>\n",
              "      <td>170.0</td>\n",
              "      <td>11.0</td>\n",
              "      <td>0.0</td>\n",
              "      <td>137.0</td>\n",
              "      <td>134.0</td>\n",
              "      <td>137.0</td>\n",
              "      <td>13.0</td>\n",
              "      <td>1.0</td>\n",
              "      <td>1.0</td>\n",
              "    </tr>\n",
              "    <tr>\n",
              "      <th>4</th>\n",
              "      <td>132.0</td>\n",
              "      <td>0.007</td>\n",
              "      <td>0.0</td>\n",
              "      <td>0.008</td>\n",
              "      <td>0.000</td>\n",
              "      <td>0.0</td>\n",
              "      <td>0.0</td>\n",
              "      <td>16.0</td>\n",
              "      <td>2.4</td>\n",
              "      <td>0.0</td>\n",
              "      <td>...</td>\n",
              "      <td>53.0</td>\n",
              "      <td>170.0</td>\n",
              "      <td>9.0</td>\n",
              "      <td>0.0</td>\n",
              "      <td>137.0</td>\n",
              "      <td>136.0</td>\n",
              "      <td>138.0</td>\n",
              "      <td>11.0</td>\n",
              "      <td>1.0</td>\n",
              "      <td>1.0</td>\n",
              "    </tr>\n",
              "  </tbody>\n",
              "</table>\n",
              "<p>5 rows × 22 columns</p>\n",
              "</div>\n",
              "      <button class=\"colab-df-convert\" onclick=\"convertToInteractive('df-52642228-bc93-4b2a-89f3-de9fcc0edc89')\"\n",
              "              title=\"Convert this dataframe to an interactive table.\"\n",
              "              style=\"display:none;\">\n",
              "        \n",
              "  <svg xmlns=\"http://www.w3.org/2000/svg\" height=\"24px\"viewBox=\"0 0 24 24\"\n",
              "       width=\"24px\">\n",
              "    <path d=\"M0 0h24v24H0V0z\" fill=\"none\"/>\n",
              "    <path d=\"M18.56 5.44l.94 2.06.94-2.06 2.06-.94-2.06-.94-.94-2.06-.94 2.06-2.06.94zm-11 1L8.5 8.5l.94-2.06 2.06-.94-2.06-.94L8.5 2.5l-.94 2.06-2.06.94zm10 10l.94 2.06.94-2.06 2.06-.94-2.06-.94-.94-2.06-.94 2.06-2.06.94z\"/><path d=\"M17.41 7.96l-1.37-1.37c-.4-.4-.92-.59-1.43-.59-.52 0-1.04.2-1.43.59L10.3 9.45l-7.72 7.72c-.78.78-.78 2.05 0 2.83L4 21.41c.39.39.9.59 1.41.59.51 0 1.02-.2 1.41-.59l7.78-7.78 2.81-2.81c.8-.78.8-2.07 0-2.86zM5.41 20L4 18.59l7.72-7.72 1.47 1.35L5.41 20z\"/>\n",
              "  </svg>\n",
              "      </button>\n",
              "      \n",
              "  <style>\n",
              "    .colab-df-container {\n",
              "      display:flex;\n",
              "      flex-wrap:wrap;\n",
              "      gap: 12px;\n",
              "    }\n",
              "\n",
              "    .colab-df-convert {\n",
              "      background-color: #E8F0FE;\n",
              "      border: none;\n",
              "      border-radius: 50%;\n",
              "      cursor: pointer;\n",
              "      display: none;\n",
              "      fill: #1967D2;\n",
              "      height: 32px;\n",
              "      padding: 0 0 0 0;\n",
              "      width: 32px;\n",
              "    }\n",
              "\n",
              "    .colab-df-convert:hover {\n",
              "      background-color: #E2EBFA;\n",
              "      box-shadow: 0px 1px 2px rgba(60, 64, 67, 0.3), 0px 1px 3px 1px rgba(60, 64, 67, 0.15);\n",
              "      fill: #174EA6;\n",
              "    }\n",
              "\n",
              "    [theme=dark] .colab-df-convert {\n",
              "      background-color: #3B4455;\n",
              "      fill: #D2E3FC;\n",
              "    }\n",
              "\n",
              "    [theme=dark] .colab-df-convert:hover {\n",
              "      background-color: #434B5C;\n",
              "      box-shadow: 0px 1px 3px 1px rgba(0, 0, 0, 0.15);\n",
              "      filter: drop-shadow(0px 1px 2px rgba(0, 0, 0, 0.3));\n",
              "      fill: #FFFFFF;\n",
              "    }\n",
              "  </style>\n",
              "\n",
              "      <script>\n",
              "        const buttonEl =\n",
              "          document.querySelector('#df-52642228-bc93-4b2a-89f3-de9fcc0edc89 button.colab-df-convert');\n",
              "        buttonEl.style.display =\n",
              "          google.colab.kernel.accessAllowed ? 'block' : 'none';\n",
              "\n",
              "        async function convertToInteractive(key) {\n",
              "          const element = document.querySelector('#df-52642228-bc93-4b2a-89f3-de9fcc0edc89');\n",
              "          const dataTable =\n",
              "            await google.colab.kernel.invokeFunction('convertToInteractive',\n",
              "                                                     [key], {});\n",
              "          if (!dataTable) return;\n",
              "\n",
              "          const docLinkHtml = 'Like what you see? Visit the ' +\n",
              "            '<a target=\"_blank\" href=https://colab.research.google.com/notebooks/data_table.ipynb>data table notebook</a>'\n",
              "            + ' to learn more about interactive tables.';\n",
              "          element.innerHTML = '';\n",
              "          dataTable['output_type'] = 'display_data';\n",
              "          await google.colab.output.renderOutput(dataTable, element);\n",
              "          const docLink = document.createElement('div');\n",
              "          docLink.innerHTML = docLinkHtml;\n",
              "          element.appendChild(docLink);\n",
              "        }\n",
              "      </script>\n",
              "    </div>\n",
              "  </div>\n",
              "  "
            ]
          },
          "metadata": {},
          "execution_count": 34
        }
      ]
    },
    {
      "cell_type": "code",
      "source": [
        "# Displaying the number of columns and the column names in the dataset\n",
        "df.columns"
      ],
      "metadata": {
        "colab": {
          "base_uri": "https://localhost:8080/"
        },
        "id": "2_FpseivgEfo",
        "outputId": "4cc9c93b-5f9e-40c9-b7f2-44d2f1cd0a4a"
      },
      "execution_count": null,
      "outputs": [
        {
          "output_type": "execute_result",
          "data": {
            "text/plain": [
              "Index(['baseline value', 'accelerations', 'fetal_movement',\n",
              "       'uterine_contractions', 'light_decelerations', 'severe_decelerations',\n",
              "       'prolongued_decelerations', 'abnormal_short_term_variability',\n",
              "       'mean_value_of_short_term_variability',\n",
              "       'percentage_of_time_with_abnormal_long_term_variability',\n",
              "       'mean_value_of_long_term_variability', 'histogram_width',\n",
              "       'histogram_min', 'histogram_max', 'histogram_number_of_peaks',\n",
              "       'histogram_number_of_zeroes', 'histogram_mode', 'histogram_mean',\n",
              "       'histogram_median', 'histogram_variance', 'histogram_tendency',\n",
              "       'fetal_health'],\n",
              "      dtype='object')"
            ]
          },
          "metadata": {},
          "execution_count": 35
        }
      ]
    },
    {
      "cell_type": "markdown",
      "source": [
        "# 3. **Understanding : Data Analysis and Visualization**"
      ],
      "metadata": {
        "id": "2vREs3phM1en"
      }
    },
    {
      "cell_type": "code",
      "source": [
        "# Checking number of rows and columns\n",
        "df.shape"
      ],
      "metadata": {
        "colab": {
          "base_uri": "https://localhost:8080/"
        },
        "id": "KqPjRuzVgLO-",
        "outputId": "a98a302c-57fe-4807-98fa-79253aa51434"
      },
      "execution_count": null,
      "outputs": [
        {
          "output_type": "execute_result",
          "data": {
            "text/plain": [
              "(2126, 22)"
            ]
          },
          "metadata": {},
          "execution_count": 36
        }
      ]
    },
    {
      "cell_type": "code",
      "source": [
        "# Checking for missing values and categorical variables in the dataset\n",
        "df.info()"
      ],
      "metadata": {
        "colab": {
          "base_uri": "https://localhost:8080/"
        },
        "id": "eP61znP2gRpt",
        "outputId": "9f39354d-6959-46ec-ca07-ae365826718e"
      },
      "execution_count": null,
      "outputs": [
        {
          "output_type": "stream",
          "name": "stdout",
          "text": [
            "<class 'pandas.core.frame.DataFrame'>\n",
            "RangeIndex: 2126 entries, 0 to 2125\n",
            "Data columns (total 22 columns):\n",
            " #   Column                                                  Non-Null Count  Dtype  \n",
            "---  ------                                                  --------------  -----  \n",
            " 0   baseline value                                          2126 non-null   float64\n",
            " 1   accelerations                                           2126 non-null   float64\n",
            " 2   fetal_movement                                          2126 non-null   float64\n",
            " 3   uterine_contractions                                    2126 non-null   float64\n",
            " 4   light_decelerations                                     2126 non-null   float64\n",
            " 5   severe_decelerations                                    2126 non-null   float64\n",
            " 6   prolongued_decelerations                                2126 non-null   float64\n",
            " 7   abnormal_short_term_variability                         2126 non-null   float64\n",
            " 8   mean_value_of_short_term_variability                    2126 non-null   float64\n",
            " 9   percentage_of_time_with_abnormal_long_term_variability  2126 non-null   float64\n",
            " 10  mean_value_of_long_term_variability                     2126 non-null   float64\n",
            " 11  histogram_width                                         2126 non-null   float64\n",
            " 12  histogram_min                                           2126 non-null   float64\n",
            " 13  histogram_max                                           2126 non-null   float64\n",
            " 14  histogram_number_of_peaks                               2126 non-null   float64\n",
            " 15  histogram_number_of_zeroes                              2126 non-null   float64\n",
            " 16  histogram_mode                                          2126 non-null   float64\n",
            " 17  histogram_mean                                          2126 non-null   float64\n",
            " 18  histogram_median                                        2126 non-null   float64\n",
            " 19  histogram_variance                                      2126 non-null   float64\n",
            " 20  histogram_tendency                                      2126 non-null   float64\n",
            " 21  fetal_health                                            2126 non-null   float64\n",
            "dtypes: float64(22)\n",
            "memory usage: 365.5 KB\n"
          ]
        }
      ]
    },
    {
      "cell_type": "markdown",
      "source": [
        "**Observation : Datatype of all the features are float64 which means it will works well with the model building. The data set has numerical values and not categorical data .**"
      ],
      "metadata": {
        "id": "QuLWemFYN6CB"
      }
    },
    {
      "cell_type": "markdown",
      "source": [
        "* Discriptive statistics"
      ],
      "metadata": {
        "id": "IjMHDpRJOAOE"
      }
    },
    {
      "cell_type": "code",
      "source": [
        "df.describe()"
      ],
      "metadata": {
        "colab": {
          "base_uri": "https://localhost:8080/",
          "height": 411
        },
        "id": "pXvyYLBkNiaF",
        "outputId": "23cbc6fe-484d-4dab-fb39-2769ebb3f492"
      },
      "execution_count": null,
      "outputs": [
        {
          "output_type": "execute_result",
          "data": {
            "text/plain": [
              "       baseline value  accelerations  fetal_movement  uterine_contractions  \\\n",
              "count     2126.000000    2126.000000     2126.000000           2126.000000   \n",
              "mean       133.303857       0.003178        0.009481              0.004366   \n",
              "std          9.840844       0.003866        0.046666              0.002946   \n",
              "min        106.000000       0.000000        0.000000              0.000000   \n",
              "25%        126.000000       0.000000        0.000000              0.002000   \n",
              "50%        133.000000       0.002000        0.000000              0.004000   \n",
              "75%        140.000000       0.006000        0.003000              0.007000   \n",
              "max        160.000000       0.019000        0.481000              0.015000   \n",
              "\n",
              "       light_decelerations  severe_decelerations  prolongued_decelerations  \\\n",
              "count          2126.000000           2126.000000               2126.000000   \n",
              "mean              0.001889              0.000003                  0.000159   \n",
              "std               0.002960              0.000057                  0.000590   \n",
              "min               0.000000              0.000000                  0.000000   \n",
              "25%               0.000000              0.000000                  0.000000   \n",
              "50%               0.000000              0.000000                  0.000000   \n",
              "75%               0.003000              0.000000                  0.000000   \n",
              "max               0.015000              0.001000                  0.005000   \n",
              "\n",
              "       abnormal_short_term_variability  mean_value_of_short_term_variability  \\\n",
              "count                      2126.000000                           2126.000000   \n",
              "mean                         46.990122                              1.332785   \n",
              "std                          17.192814                              0.883241   \n",
              "min                          12.000000                              0.200000   \n",
              "25%                          32.000000                              0.700000   \n",
              "50%                          49.000000                              1.200000   \n",
              "75%                          61.000000                              1.700000   \n",
              "max                          87.000000                              7.000000   \n",
              "\n",
              "       percentage_of_time_with_abnormal_long_term_variability  ...  \\\n",
              "count                                         2126.00000       ...   \n",
              "mean                                             9.84666       ...   \n",
              "std                                             18.39688       ...   \n",
              "min                                              0.00000       ...   \n",
              "25%                                              0.00000       ...   \n",
              "50%                                              0.00000       ...   \n",
              "75%                                             11.00000       ...   \n",
              "max                                             91.00000       ...   \n",
              "\n",
              "       histogram_min  histogram_max  histogram_number_of_peaks  \\\n",
              "count    2126.000000    2126.000000                2126.000000   \n",
              "mean       93.579492     164.025400                   4.068203   \n",
              "std        29.560212      17.944183                   2.949386   \n",
              "min        50.000000     122.000000                   0.000000   \n",
              "25%        67.000000     152.000000                   2.000000   \n",
              "50%        93.000000     162.000000                   3.000000   \n",
              "75%       120.000000     174.000000                   6.000000   \n",
              "max       159.000000     238.000000                  18.000000   \n",
              "\n",
              "       histogram_number_of_zeroes  histogram_mode  histogram_mean  \\\n",
              "count                 2126.000000     2126.000000     2126.000000   \n",
              "mean                     0.323612      137.452023      134.610536   \n",
              "std                      0.706059       16.381289       15.593596   \n",
              "min                      0.000000       60.000000       73.000000   \n",
              "25%                      0.000000      129.000000      125.000000   \n",
              "50%                      0.000000      139.000000      136.000000   \n",
              "75%                      0.000000      148.000000      145.000000   \n",
              "max                     10.000000      187.000000      182.000000   \n",
              "\n",
              "       histogram_median  histogram_variance  histogram_tendency  fetal_health  \n",
              "count       2126.000000         2126.000000         2126.000000   2126.000000  \n",
              "mean         138.090310           18.808090            0.320320      1.304327  \n",
              "std           14.466589           28.977636            0.610829      0.614377  \n",
              "min           77.000000            0.000000           -1.000000      1.000000  \n",
              "25%          129.000000            2.000000            0.000000      1.000000  \n",
              "50%          139.000000            7.000000            0.000000      1.000000  \n",
              "75%          148.000000           24.000000            1.000000      1.000000  \n",
              "max          186.000000          269.000000            1.000000      3.000000  \n",
              "\n",
              "[8 rows x 22 columns]"
            ],
            "text/html": [
              "\n",
              "  <div id=\"df-596dba62-d621-4bc1-beac-c9a728c40ab3\">\n",
              "    <div class=\"colab-df-container\">\n",
              "      <div>\n",
              "<style scoped>\n",
              "    .dataframe tbody tr th:only-of-type {\n",
              "        vertical-align: middle;\n",
              "    }\n",
              "\n",
              "    .dataframe tbody tr th {\n",
              "        vertical-align: top;\n",
              "    }\n",
              "\n",
              "    .dataframe thead th {\n",
              "        text-align: right;\n",
              "    }\n",
              "</style>\n",
              "<table border=\"1\" class=\"dataframe\">\n",
              "  <thead>\n",
              "    <tr style=\"text-align: right;\">\n",
              "      <th></th>\n",
              "      <th>baseline value</th>\n",
              "      <th>accelerations</th>\n",
              "      <th>fetal_movement</th>\n",
              "      <th>uterine_contractions</th>\n",
              "      <th>light_decelerations</th>\n",
              "      <th>severe_decelerations</th>\n",
              "      <th>prolongued_decelerations</th>\n",
              "      <th>abnormal_short_term_variability</th>\n",
              "      <th>mean_value_of_short_term_variability</th>\n",
              "      <th>percentage_of_time_with_abnormal_long_term_variability</th>\n",
              "      <th>...</th>\n",
              "      <th>histogram_min</th>\n",
              "      <th>histogram_max</th>\n",
              "      <th>histogram_number_of_peaks</th>\n",
              "      <th>histogram_number_of_zeroes</th>\n",
              "      <th>histogram_mode</th>\n",
              "      <th>histogram_mean</th>\n",
              "      <th>histogram_median</th>\n",
              "      <th>histogram_variance</th>\n",
              "      <th>histogram_tendency</th>\n",
              "      <th>fetal_health</th>\n",
              "    </tr>\n",
              "  </thead>\n",
              "  <tbody>\n",
              "    <tr>\n",
              "      <th>count</th>\n",
              "      <td>2126.000000</td>\n",
              "      <td>2126.000000</td>\n",
              "      <td>2126.000000</td>\n",
              "      <td>2126.000000</td>\n",
              "      <td>2126.000000</td>\n",
              "      <td>2126.000000</td>\n",
              "      <td>2126.000000</td>\n",
              "      <td>2126.000000</td>\n",
              "      <td>2126.000000</td>\n",
              "      <td>2126.00000</td>\n",
              "      <td>...</td>\n",
              "      <td>2126.000000</td>\n",
              "      <td>2126.000000</td>\n",
              "      <td>2126.000000</td>\n",
              "      <td>2126.000000</td>\n",
              "      <td>2126.000000</td>\n",
              "      <td>2126.000000</td>\n",
              "      <td>2126.000000</td>\n",
              "      <td>2126.000000</td>\n",
              "      <td>2126.000000</td>\n",
              "      <td>2126.000000</td>\n",
              "    </tr>\n",
              "    <tr>\n",
              "      <th>mean</th>\n",
              "      <td>133.303857</td>\n",
              "      <td>0.003178</td>\n",
              "      <td>0.009481</td>\n",
              "      <td>0.004366</td>\n",
              "      <td>0.001889</td>\n",
              "      <td>0.000003</td>\n",
              "      <td>0.000159</td>\n",
              "      <td>46.990122</td>\n",
              "      <td>1.332785</td>\n",
              "      <td>9.84666</td>\n",
              "      <td>...</td>\n",
              "      <td>93.579492</td>\n",
              "      <td>164.025400</td>\n",
              "      <td>4.068203</td>\n",
              "      <td>0.323612</td>\n",
              "      <td>137.452023</td>\n",
              "      <td>134.610536</td>\n",
              "      <td>138.090310</td>\n",
              "      <td>18.808090</td>\n",
              "      <td>0.320320</td>\n",
              "      <td>1.304327</td>\n",
              "    </tr>\n",
              "    <tr>\n",
              "      <th>std</th>\n",
              "      <td>9.840844</td>\n",
              "      <td>0.003866</td>\n",
              "      <td>0.046666</td>\n",
              "      <td>0.002946</td>\n",
              "      <td>0.002960</td>\n",
              "      <td>0.000057</td>\n",
              "      <td>0.000590</td>\n",
              "      <td>17.192814</td>\n",
              "      <td>0.883241</td>\n",
              "      <td>18.39688</td>\n",
              "      <td>...</td>\n",
              "      <td>29.560212</td>\n",
              "      <td>17.944183</td>\n",
              "      <td>2.949386</td>\n",
              "      <td>0.706059</td>\n",
              "      <td>16.381289</td>\n",
              "      <td>15.593596</td>\n",
              "      <td>14.466589</td>\n",
              "      <td>28.977636</td>\n",
              "      <td>0.610829</td>\n",
              "      <td>0.614377</td>\n",
              "    </tr>\n",
              "    <tr>\n",
              "      <th>min</th>\n",
              "      <td>106.000000</td>\n",
              "      <td>0.000000</td>\n",
              "      <td>0.000000</td>\n",
              "      <td>0.000000</td>\n",
              "      <td>0.000000</td>\n",
              "      <td>0.000000</td>\n",
              "      <td>0.000000</td>\n",
              "      <td>12.000000</td>\n",
              "      <td>0.200000</td>\n",
              "      <td>0.00000</td>\n",
              "      <td>...</td>\n",
              "      <td>50.000000</td>\n",
              "      <td>122.000000</td>\n",
              "      <td>0.000000</td>\n",
              "      <td>0.000000</td>\n",
              "      <td>60.000000</td>\n",
              "      <td>73.000000</td>\n",
              "      <td>77.000000</td>\n",
              "      <td>0.000000</td>\n",
              "      <td>-1.000000</td>\n",
              "      <td>1.000000</td>\n",
              "    </tr>\n",
              "    <tr>\n",
              "      <th>25%</th>\n",
              "      <td>126.000000</td>\n",
              "      <td>0.000000</td>\n",
              "      <td>0.000000</td>\n",
              "      <td>0.002000</td>\n",
              "      <td>0.000000</td>\n",
              "      <td>0.000000</td>\n",
              "      <td>0.000000</td>\n",
              "      <td>32.000000</td>\n",
              "      <td>0.700000</td>\n",
              "      <td>0.00000</td>\n",
              "      <td>...</td>\n",
              "      <td>67.000000</td>\n",
              "      <td>152.000000</td>\n",
              "      <td>2.000000</td>\n",
              "      <td>0.000000</td>\n",
              "      <td>129.000000</td>\n",
              "      <td>125.000000</td>\n",
              "      <td>129.000000</td>\n",
              "      <td>2.000000</td>\n",
              "      <td>0.000000</td>\n",
              "      <td>1.000000</td>\n",
              "    </tr>\n",
              "    <tr>\n",
              "      <th>50%</th>\n",
              "      <td>133.000000</td>\n",
              "      <td>0.002000</td>\n",
              "      <td>0.000000</td>\n",
              "      <td>0.004000</td>\n",
              "      <td>0.000000</td>\n",
              "      <td>0.000000</td>\n",
              "      <td>0.000000</td>\n",
              "      <td>49.000000</td>\n",
              "      <td>1.200000</td>\n",
              "      <td>0.00000</td>\n",
              "      <td>...</td>\n",
              "      <td>93.000000</td>\n",
              "      <td>162.000000</td>\n",
              "      <td>3.000000</td>\n",
              "      <td>0.000000</td>\n",
              "      <td>139.000000</td>\n",
              "      <td>136.000000</td>\n",
              "      <td>139.000000</td>\n",
              "      <td>7.000000</td>\n",
              "      <td>0.000000</td>\n",
              "      <td>1.000000</td>\n",
              "    </tr>\n",
              "    <tr>\n",
              "      <th>75%</th>\n",
              "      <td>140.000000</td>\n",
              "      <td>0.006000</td>\n",
              "      <td>0.003000</td>\n",
              "      <td>0.007000</td>\n",
              "      <td>0.003000</td>\n",
              "      <td>0.000000</td>\n",
              "      <td>0.000000</td>\n",
              "      <td>61.000000</td>\n",
              "      <td>1.700000</td>\n",
              "      <td>11.00000</td>\n",
              "      <td>...</td>\n",
              "      <td>120.000000</td>\n",
              "      <td>174.000000</td>\n",
              "      <td>6.000000</td>\n",
              "      <td>0.000000</td>\n",
              "      <td>148.000000</td>\n",
              "      <td>145.000000</td>\n",
              "      <td>148.000000</td>\n",
              "      <td>24.000000</td>\n",
              "      <td>1.000000</td>\n",
              "      <td>1.000000</td>\n",
              "    </tr>\n",
              "    <tr>\n",
              "      <th>max</th>\n",
              "      <td>160.000000</td>\n",
              "      <td>0.019000</td>\n",
              "      <td>0.481000</td>\n",
              "      <td>0.015000</td>\n",
              "      <td>0.015000</td>\n",
              "      <td>0.001000</td>\n",
              "      <td>0.005000</td>\n",
              "      <td>87.000000</td>\n",
              "      <td>7.000000</td>\n",
              "      <td>91.00000</td>\n",
              "      <td>...</td>\n",
              "      <td>159.000000</td>\n",
              "      <td>238.000000</td>\n",
              "      <td>18.000000</td>\n",
              "      <td>10.000000</td>\n",
              "      <td>187.000000</td>\n",
              "      <td>182.000000</td>\n",
              "      <td>186.000000</td>\n",
              "      <td>269.000000</td>\n",
              "      <td>1.000000</td>\n",
              "      <td>3.000000</td>\n",
              "    </tr>\n",
              "  </tbody>\n",
              "</table>\n",
              "<p>8 rows × 22 columns</p>\n",
              "</div>\n",
              "      <button class=\"colab-df-convert\" onclick=\"convertToInteractive('df-596dba62-d621-4bc1-beac-c9a728c40ab3')\"\n",
              "              title=\"Convert this dataframe to an interactive table.\"\n",
              "              style=\"display:none;\">\n",
              "        \n",
              "  <svg xmlns=\"http://www.w3.org/2000/svg\" height=\"24px\"viewBox=\"0 0 24 24\"\n",
              "       width=\"24px\">\n",
              "    <path d=\"M0 0h24v24H0V0z\" fill=\"none\"/>\n",
              "    <path d=\"M18.56 5.44l.94 2.06.94-2.06 2.06-.94-2.06-.94-.94-2.06-.94 2.06-2.06.94zm-11 1L8.5 8.5l.94-2.06 2.06-.94-2.06-.94L8.5 2.5l-.94 2.06-2.06.94zm10 10l.94 2.06.94-2.06 2.06-.94-2.06-.94-.94-2.06-.94 2.06-2.06.94z\"/><path d=\"M17.41 7.96l-1.37-1.37c-.4-.4-.92-.59-1.43-.59-.52 0-1.04.2-1.43.59L10.3 9.45l-7.72 7.72c-.78.78-.78 2.05 0 2.83L4 21.41c.39.39.9.59 1.41.59.51 0 1.02-.2 1.41-.59l7.78-7.78 2.81-2.81c.8-.78.8-2.07 0-2.86zM5.41 20L4 18.59l7.72-7.72 1.47 1.35L5.41 20z\"/>\n",
              "  </svg>\n",
              "      </button>\n",
              "      \n",
              "  <style>\n",
              "    .colab-df-container {\n",
              "      display:flex;\n",
              "      flex-wrap:wrap;\n",
              "      gap: 12px;\n",
              "    }\n",
              "\n",
              "    .colab-df-convert {\n",
              "      background-color: #E8F0FE;\n",
              "      border: none;\n",
              "      border-radius: 50%;\n",
              "      cursor: pointer;\n",
              "      display: none;\n",
              "      fill: #1967D2;\n",
              "      height: 32px;\n",
              "      padding: 0 0 0 0;\n",
              "      width: 32px;\n",
              "    }\n",
              "\n",
              "    .colab-df-convert:hover {\n",
              "      background-color: #E2EBFA;\n",
              "      box-shadow: 0px 1px 2px rgba(60, 64, 67, 0.3), 0px 1px 3px 1px rgba(60, 64, 67, 0.15);\n",
              "      fill: #174EA6;\n",
              "    }\n",
              "\n",
              "    [theme=dark] .colab-df-convert {\n",
              "      background-color: #3B4455;\n",
              "      fill: #D2E3FC;\n",
              "    }\n",
              "\n",
              "    [theme=dark] .colab-df-convert:hover {\n",
              "      background-color: #434B5C;\n",
              "      box-shadow: 0px 1px 3px 1px rgba(0, 0, 0, 0.15);\n",
              "      filter: drop-shadow(0px 1px 2px rgba(0, 0, 0, 0.3));\n",
              "      fill: #FFFFFF;\n",
              "    }\n",
              "  </style>\n",
              "\n",
              "      <script>\n",
              "        const buttonEl =\n",
              "          document.querySelector('#df-596dba62-d621-4bc1-beac-c9a728c40ab3 button.colab-df-convert');\n",
              "        buttonEl.style.display =\n",
              "          google.colab.kernel.accessAllowed ? 'block' : 'none';\n",
              "\n",
              "        async function convertToInteractive(key) {\n",
              "          const element = document.querySelector('#df-596dba62-d621-4bc1-beac-c9a728c40ab3');\n",
              "          const dataTable =\n",
              "            await google.colab.kernel.invokeFunction('convertToInteractive',\n",
              "                                                     [key], {});\n",
              "          if (!dataTable) return;\n",
              "\n",
              "          const docLinkHtml = 'Like what you see? Visit the ' +\n",
              "            '<a target=\"_blank\" href=https://colab.research.google.com/notebooks/data_table.ipynb>data table notebook</a>'\n",
              "            + ' to learn more about interactive tables.';\n",
              "          element.innerHTML = '';\n",
              "          dataTable['output_type'] = 'display_data';\n",
              "          await google.colab.output.renderOutput(dataTable, element);\n",
              "          const docLink = document.createElement('div');\n",
              "          docLink.innerHTML = docLinkHtml;\n",
              "          element.appendChild(docLink);\n",
              "        }\n",
              "      </script>\n",
              "    </div>\n",
              "  </div>\n",
              "  "
            ]
          },
          "metadata": {},
          "execution_count": 38
        }
      ]
    },
    {
      "cell_type": "markdown",
      "source": [
        "From the above output we can understand the count of values , the mean values , the standard deviation, minimum values, maximun values and the three quartile values for various columns. From the 3 quartile values of all the columns we can say that the quartile values are quite near to each other i.e. there is less differnce between them so the data points are also near to each other."
      ],
      "metadata": {
        "id": "mcektzGQQnhr"
      }
    },
    {
      "cell_type": "markdown",
      "source": [
        "* Evaluating Target Feature"
      ],
      "metadata": {
        "id": "QireLgByQ9fH"
      }
    },
    {
      "cell_type": "code",
      "source": [
        "df[\"fetal_health\"].value_counts()"
      ],
      "metadata": {
        "colab": {
          "base_uri": "https://localhost:8080/"
        },
        "id": "egPIURxajqX7",
        "outputId": "e1696867-41ea-4e71-cd93-0afd4a6c8755"
      },
      "execution_count": null,
      "outputs": [
        {
          "output_type": "execute_result",
          "data": {
            "text/plain": [
              "1.0    1655\n",
              "2.0     295\n",
              "3.0     176\n",
              "Name: fetal_health, dtype: int64"
            ]
          },
          "metadata": {},
          "execution_count": 39
        }
      ]
    },
    {
      "cell_type": "code",
      "source": [
        "# Target class value visualisation\n",
        "sns.countplot(data= df, x=\"fetal_health\", palette=[\"#FFA500\",\"#4682B4\", \"#87CEFA\"])\n",
        "plt.show()"
      ],
      "metadata": {
        "colab": {
          "base_uri": "https://localhost:8080/",
          "height": 280
        },
        "id": "-5KAc2P_Qu09",
        "outputId": "6eee7879-b0d9-4ada-b850-cc58e62d8fe3"
      },
      "execution_count": null,
      "outputs": [
        {
          "output_type": "display_data",
          "data": {
            "text/plain": [
              "<Figure size 432x288 with 1 Axes>"
            ],
            "image/png": "[encoded data removed]"
          },
          "metadata": {
            "needs_background": "light"
          }
        }
      ]
    },
    {
      "cell_type": "markdown",
      "source": [
        "Target labels are highly imbalanced as can be seen from the plot. The value of "
      ],
      "metadata": {
        "id": "3ZZZnKlPTPti"
      }
    },
    {
      "cell_type": "markdown",
      "source": [
        "# Wrangling 1"
      ],
      "metadata": {
        "id": "sEn2ItemxfM-"
      }
    },
    {
      "cell_type": "markdown",
      "source": [
        "As per problem statement only those features are to be filtered and used"
      ],
      "metadata": {
        "id": "MRKR9IYuk6OQ"
      }
    },
    {
      "cell_type": "code",
      "source": [
        "# Selecting features as mentioned in problem statement\n",
        "feature_columns= ['baseline value',\"fetal_movement\",'uterine_contractions',\n",
        "       'light_decelerations',\n",
        "       'severe_decelerations', 'prolongued_decelerations',\n",
        "       'abnormal_short_term_variability','fetal_health']\n",
        "\n",
        "df = df[feature_columns]\n"
      ],
      "metadata": {
        "id": "DGb9B-oCSLw6"
      },
      "execution_count": null,
      "outputs": []
    },
    {
      "cell_type": "code",
      "source": [
        "df.describe()"
      ],
      "metadata": {
        "colab": {
          "base_uri": "https://localhost:8080/",
          "height": 300
        },
        "id": "4ded57TilXkD",
        "outputId": "2ecc339b-687f-41bb-ef5c-d31bab888860"
      },
      "execution_count": null,
      "outputs": [
        {
          "output_type": "execute_result",
          "data": {
            "text/plain": [
              "       baseline value  fetal_movement  uterine_contractions  \\\n",
              "count     2126.000000     2126.000000           2126.000000   \n",
              "mean       133.303857        0.009481              0.004366   \n",
              "std          9.840844        0.046666              0.002946   \n",
              "min        106.000000        0.000000              0.000000   \n",
              "25%        126.000000        0.000000              0.002000   \n",
              "50%        133.000000        0.000000              0.004000   \n",
              "75%        140.000000        0.003000              0.007000   \n",
              "max        160.000000        0.481000              0.015000   \n",
              "\n",
              "       light_decelerations  severe_decelerations  prolongued_decelerations  \\\n",
              "count          2126.000000           2126.000000               2126.000000   \n",
              "mean              0.001889              0.000003                  0.000159   \n",
              "std               0.002960              0.000057                  0.000590   \n",
              "min               0.000000              0.000000                  0.000000   \n",
              "25%               0.000000              0.000000                  0.000000   \n",
              "50%               0.000000              0.000000                  0.000000   \n",
              "75%               0.003000              0.000000                  0.000000   \n",
              "max               0.015000              0.001000                  0.005000   \n",
              "\n",
              "       abnormal_short_term_variability  fetal_health  \n",
              "count                      2126.000000   2126.000000  \n",
              "mean                         46.990122      1.304327  \n",
              "std                          17.192814      0.614377  \n",
              "min                          12.000000      1.000000  \n",
              "25%                          32.000000      1.000000  \n",
              "50%                          49.000000      1.000000  \n",
              "75%                          61.000000      1.000000  \n",
              "max                          87.000000      3.000000  "
            ],
            "text/html": [
              "\n",
              "  <div id=\"df-ba4f83c3-9fa2-4608-a9cd-edde53a24225\">\n",
              "    <div class=\"colab-df-container\">\n",
              "      <div>\n",
              "<style scoped>\n",
              "    .dataframe tbody tr th:only-of-type {\n",
              "        vertical-align: middle;\n",
              "    }\n",
              "\n",
              "    .dataframe tbody tr th {\n",
              "        vertical-align: top;\n",
              "    }\n",
              "\n",
              "    .dataframe thead th {\n",
              "        text-align: right;\n",
              "    }\n",
              "</style>\n",
              "<table border=\"1\" class=\"dataframe\">\n",
              "  <thead>\n",
              "    <tr style=\"text-align: right;\">\n",
              "      <th></th>\n",
              "      <th>baseline value</th>\n",
              "      <th>fetal_movement</th>\n",
              "      <th>uterine_contractions</th>\n",
              "      <th>light_decelerations</th>\n",
              "      <th>severe_decelerations</th>\n",
              "      <th>prolongued_decelerations</th>\n",
              "      <th>abnormal_short_term_variability</th>\n",
              "      <th>fetal_health</th>\n",
              "    </tr>\n",
              "  </thead>\n",
              "  <tbody>\n",
              "    <tr>\n",
              "      <th>count</th>\n",
              "      <td>2126.000000</td>\n",
              "      <td>2126.000000</td>\n",
              "      <td>2126.000000</td>\n",
              "      <td>2126.000000</td>\n",
              "      <td>2126.000000</td>\n",
              "      <td>2126.000000</td>\n",
              "      <td>2126.000000</td>\n",
              "      <td>2126.000000</td>\n",
              "    </tr>\n",
              "    <tr>\n",
              "      <th>mean</th>\n",
              "      <td>133.303857</td>\n",
              "      <td>0.009481</td>\n",
              "      <td>0.004366</td>\n",
              "      <td>0.001889</td>\n",
              "      <td>0.000003</td>\n",
              "      <td>0.000159</td>\n",
              "      <td>46.990122</td>\n",
              "      <td>1.304327</td>\n",
              "    </tr>\n",
              "    <tr>\n",
              "      <th>std</th>\n",
              "      <td>9.840844</td>\n",
              "      <td>0.046666</td>\n",
              "      <td>0.002946</td>\n",
              "      <td>0.002960</td>\n",
              "      <td>0.000057</td>\n",
              "      <td>0.000590</td>\n",
              "      <td>17.192814</td>\n",
              "      <td>0.614377</td>\n",
              "    </tr>\n",
              "    <tr>\n",
              "      <th>min</th>\n",
              "      <td>106.000000</td>\n",
              "      <td>0.000000</td>\n",
              "      <td>0.000000</td>\n",
              "      <td>0.000000</td>\n",
              "      <td>0.000000</td>\n",
              "      <td>0.000000</td>\n",
              "      <td>12.000000</td>\n",
              "      <td>1.000000</td>\n",
              "    </tr>\n",
              "    <tr>\n",
              "      <th>25%</th>\n",
              "      <td>126.000000</td>\n",
              "      <td>0.000000</td>\n",
              "      <td>0.002000</td>\n",
              "      <td>0.000000</td>\n",
              "      <td>0.000000</td>\n",
              "      <td>0.000000</td>\n",
              "      <td>32.000000</td>\n",
              "      <td>1.000000</td>\n",
              "    </tr>\n",
              "    <tr>\n",
              "      <th>50%</th>\n",
              "      <td>133.000000</td>\n",
              "      <td>0.000000</td>\n",
              "      <td>0.004000</td>\n",
              "      <td>0.000000</td>\n",
              "      <td>0.000000</td>\n",
              "      <td>0.000000</td>\n",
              "      <td>49.000000</td>\n",
              "      <td>1.000000</td>\n",
              "    </tr>\n",
              "    <tr>\n",
              "      <th>75%</th>\n",
              "      <td>140.000000</td>\n",
              "      <td>0.003000</td>\n",
              "      <td>0.007000</td>\n",
              "      <td>0.003000</td>\n",
              "      <td>0.000000</td>\n",
              "      <td>0.000000</td>\n",
              "      <td>61.000000</td>\n",
              "      <td>1.000000</td>\n",
              "    </tr>\n",
              "    <tr>\n",
              "      <th>max</th>\n",
              "      <td>160.000000</td>\n",
              "      <td>0.481000</td>\n",
              "      <td>0.015000</td>\n",
              "      <td>0.015000</td>\n",
              "      <td>0.001000</td>\n",
              "      <td>0.005000</td>\n",
              "      <td>87.000000</td>\n",
              "      <td>3.000000</td>\n",
              "    </tr>\n",
              "  </tbody>\n",
              "</table>\n",
              "</div>\n",
              "      <button class=\"colab-df-convert\" onclick=\"convertToInteractive('df-ba4f83c3-9fa2-4608-a9cd-edde53a24225')\"\n",
              "              title=\"Convert this dataframe to an interactive table.\"\n",
              "              style=\"display:none;\">\n",
              "        \n",
              "  <svg xmlns=\"http://www.w3.org/2000/svg\" height=\"24px\"viewBox=\"0 0 24 24\"\n",
              "       width=\"24px\">\n",
              "    <path d=\"M0 0h24v24H0V0z\" fill=\"none\"/>\n",
              "    <path d=\"M18.56 5.44l.94 2.06.94-2.06 2.06-.94-2.06-.94-.94-2.06-.94 2.06-2.06.94zm-11 1L8.5 8.5l.94-2.06 2.06-.94-2.06-.94L8.5 2.5l-.94 2.06-2.06.94zm10 10l.94 2.06.94-2.06 2.06-.94-2.06-.94-.94-2.06-.94 2.06-2.06.94z\"/><path d=\"M17.41 7.96l-1.37-1.37c-.4-.4-.92-.59-1.43-.59-.52 0-1.04.2-1.43.59L10.3 9.45l-7.72 7.72c-.78.78-.78 2.05 0 2.83L4 21.41c.39.39.9.59 1.41.59.51 0 1.02-.2 1.41-.59l7.78-7.78 2.81-2.81c.8-.78.8-2.07 0-2.86zM5.41 20L4 18.59l7.72-7.72 1.47 1.35L5.41 20z\"/>\n",
              "  </svg>\n",
              "      </button>\n",
              "      \n",
              "  <style>\n",
              "    .colab-df-container {\n",
              "      display:flex;\n",
              "      flex-wrap:wrap;\n",
              "      gap: 12px;\n",
              "    }\n",
              "\n",
              "    .colab-df-convert {\n",
              "      background-color: #E8F0FE;\n",
              "      border: none;\n",
              "      border-radius: 50%;\n",
              "      cursor: pointer;\n",
              "      display: none;\n",
              "      fill: #1967D2;\n",
              "      height: 32px;\n",
              "      padding: 0 0 0 0;\n",
              "      width: 32px;\n",
              "    }\n",
              "\n",
              "    .colab-df-convert:hover {\n",
              "      background-color: #E2EBFA;\n",
              "      box-shadow: 0px 1px 2px rgba(60, 64, 67, 0.3), 0px 1px 3px 1px rgba(60, 64, 67, 0.15);\n",
              "      fill: #174EA6;\n",
              "    }\n",
              "\n",
              "    [theme=dark] .colab-df-convert {\n",
              "      background-color: #3B4455;\n",
              "      fill: #D2E3FC;\n",
              "    }\n",
              "\n",
              "    [theme=dark] .colab-df-convert:hover {\n",
              "      background-color: #434B5C;\n",
              "      box-shadow: 0px 1px 3px 1px rgba(0, 0, 0, 0.15);\n",
              "      filter: drop-shadow(0px 1px 2px rgba(0, 0, 0, 0.3));\n",
              "      fill: #FFFFFF;\n",
              "    }\n",
              "  </style>\n",
              "\n",
              "      <script>\n",
              "        const buttonEl =\n",
              "          document.querySelector('#df-ba4f83c3-9fa2-4608-a9cd-edde53a24225 button.colab-df-convert');\n",
              "        buttonEl.style.display =\n",
              "          google.colab.kernel.accessAllowed ? 'block' : 'none';\n",
              "\n",
              "        async function convertToInteractive(key) {\n",
              "          const element = document.querySelector('#df-ba4f83c3-9fa2-4608-a9cd-edde53a24225');\n",
              "          const dataTable =\n",
              "            await google.colab.kernel.invokeFunction('convertToInteractive',\n",
              "                                                     [key], {});\n",
              "          if (!dataTable) return;\n",
              "\n",
              "          const docLinkHtml = 'Like what you see? Visit the ' +\n",
              "            '<a target=\"_blank\" href=https://colab.research.google.com/notebooks/data_table.ipynb>data table notebook</a>'\n",
              "            + ' to learn more about interactive tables.';\n",
              "          element.innerHTML = '';\n",
              "          dataTable['output_type'] = 'display_data';\n",
              "          await google.colab.output.renderOutput(dataTable, element);\n",
              "          const docLink = document.createElement('div');\n",
              "          docLink.innerHTML = docLinkHtml;\n",
              "          element.appendChild(docLink);\n",
              "        }\n",
              "      </script>\n",
              "    </div>\n",
              "  </div>\n",
              "  "
            ]
          },
          "metadata": {},
          "execution_count": 42
        }
      ]
    },
    {
      "cell_type": "markdown",
      "source": [
        "\n",
        "\n",
        "*   Check for Missing Data\n",
        "\n"
      ],
      "metadata": {
        "id": "LBitn-ZWxz59"
      }
    },
    {
      "cell_type": "code",
      "source": [
        "#looking for missing values\n",
        "df.isnull().sum()"
      ],
      "metadata": {
        "id": "0mbwUbV_xeH3",
        "colab": {
          "base_uri": "https://localhost:8080/"
        },
        "outputId": "4ff6a65e-b564-465c-afba-52a7527348af"
      },
      "execution_count": null,
      "outputs": [
        {
          "output_type": "execute_result",
          "data": {
            "text/plain": [
              "baseline value                     0\n",
              "fetal_movement                     0\n",
              "uterine_contractions               0\n",
              "light_decelerations                0\n",
              "severe_decelerations               0\n",
              "prolongued_decelerations           0\n",
              "abnormal_short_term_variability    0\n",
              "fetal_health                       0\n",
              "dtype: int64"
            ]
          },
          "metadata": {},
          "execution_count": 43
        }
      ]
    },
    {
      "cell_type": "markdown",
      "source": [
        "**Observation** : This shows that the data has no missing values\n"
      ],
      "metadata": {
        "id": "RAe3zm7TxtgD"
      }
    },
    {
      "cell_type": "markdown",
      "source": [
        "* Correlation Analysis"
      ],
      "metadata": {
        "id": "Z3UFG173TdXH"
      }
    },
    {
      "cell_type": "code",
      "source": [
        "\n",
        "# Performing correlation analysis\n",
        "plt.figure(figsize=(20, 8))\n",
        "sns.heatmap(df.corr(), linewidths=.1,cmap=\"Blues\", annot=True, annot_kws={\"size\": 15})\n",
        "plt.yticks(rotation=0)\n"
      ],
      "metadata": {
        "colab": {
          "base_uri": "https://localhost:8080/",
          "height": 673
        },
        "id": "N9mBPp5FRmMo",
        "outputId": "df73dce9-fece-48f5-f92e-64af32ff15a2"
      },
      "execution_count": null,
      "outputs": [
        {
          "output_type": "execute_result",
          "data": {
            "text/plain": [
              "(array([0.5, 1.5, 2.5, 3.5, 4.5, 5.5, 6.5, 7.5]),\n",
              " <a list of 8 Text major ticklabel objects>)"
            ]
          },
          "metadata": {},
          "execution_count": 44
        },
        {
          "output_type": "display_data",
          "data": {
            "text/plain": [
              "<Figure size 1440x576 with 2 Axes>"
            ],
            "image/png": "[encoded data removed]"
          },
          "metadata": {
            "needs_background": "light"
          }
        }
      ]
    },
    {
      "cell_type": "markdown",
      "source": [
        "We can observe the following things from the above correlation matrix:\n",
        "* Not any column in strong corelated  hence we dont need to drop any columns "
      ],
      "metadata": {
        "id": "5L_TPT1dTvPC"
      }
    },
    {
      "cell_type": "markdown",
      "source": [
        "# Wrangling 2\n"
      ],
      "metadata": {
        "id": "Y_GdKRXZyD42"
      }
    },
    {
      "cell_type": "markdown",
      "source": [
        "StandardScaler : As since in df.describe() - Some columns are having high values and some columns are having extremely low values and are in same range, hence we need to scale some of the columns so that they all in same range and also in order to achieve better predict score with most precision."
      ],
      "metadata": {
        "id": "34um7Fr8Ud1R"
      }
    },
    {
      "cell_type": "code",
      "source": [
        "df.describe()"
      ],
      "metadata": {
        "colab": {
          "base_uri": "https://localhost:8080/",
          "height": 300
        },
        "id": "C7DkIHt1U3yQ",
        "outputId": "e514eb11-e7fb-4b2b-c422-c43c1f14b3ef"
      },
      "execution_count": null,
      "outputs": [
        {
          "output_type": "execute_result",
          "data": {
            "text/plain": [
              "       baseline value  fetal_movement  uterine_contractions  \\\n",
              "count     2126.000000     2126.000000           2126.000000   \n",
              "mean       133.303857        0.009481              0.004366   \n",
              "std          9.840844        0.046666              0.002946   \n",
              "min        106.000000        0.000000              0.000000   \n",
              "25%        126.000000        0.000000              0.002000   \n",
              "50%        133.000000        0.000000              0.004000   \n",
              "75%        140.000000        0.003000              0.007000   \n",
              "max        160.000000        0.481000              0.015000   \n",
              "\n",
              "       light_decelerations  severe_decelerations  prolongued_decelerations  \\\n",
              "count          2126.000000           2126.000000               2126.000000   \n",
              "mean              0.001889              0.000003                  0.000159   \n",
              "std               0.002960              0.000057                  0.000590   \n",
              "min               0.000000              0.000000                  0.000000   \n",
              "25%               0.000000              0.000000                  0.000000   \n",
              "50%               0.000000              0.000000                  0.000000   \n",
              "75%               0.003000              0.000000                  0.000000   \n",
              "max               0.015000              0.001000                  0.005000   \n",
              "\n",
              "       abnormal_short_term_variability  fetal_health  \n",
              "count                      2126.000000   2126.000000  \n",
              "mean                         46.990122      1.304327  \n",
              "std                          17.192814      0.614377  \n",
              "min                          12.000000      1.000000  \n",
              "25%                          32.000000      1.000000  \n",
              "50%                          49.000000      1.000000  \n",
              "75%                          61.000000      1.000000  \n",
              "max                          87.000000      3.000000  "
            ],
            "text/html": [
              "\n",
              "  <div id=\"df-228ea487-e522-432b-b41c-dbf79b9cb8e3\">\n",
              "    <div class=\"colab-df-container\">\n",
              "      <div>\n",
              "<style scoped>\n",
              "    .dataframe tbody tr th:only-of-type {\n",
              "        vertical-align: middle;\n",
              "    }\n",
              "\n",
              "    .dataframe tbody tr th {\n",
              "        vertical-align: top;\n",
              "    }\n",
              "\n",
              "    .dataframe thead th {\n",
              "        text-align: right;\n",
              "    }\n",
              "</style>\n",
              "<table border=\"1\" class=\"dataframe\">\n",
              "  <thead>\n",
              "    <tr style=\"text-align: right;\">\n",
              "      <th></th>\n",
              "      <th>baseline value</th>\n",
              "      <th>fetal_movement</th>\n",
              "      <th>uterine_contractions</th>\n",
              "      <th>light_decelerations</th>\n",
              "      <th>severe_decelerations</th>\n",
              "      <th>prolongued_decelerations</th>\n",
              "      <th>abnormal_short_term_variability</th>\n",
              "      <th>fetal_health</th>\n",
              "    </tr>\n",
              "  </thead>\n",
              "  <tbody>\n",
              "    <tr>\n",
              "      <th>count</th>\n",
              "      <td>2126.000000</td>\n",
              "      <td>2126.000000</td>\n",
              "      <td>2126.000000</td>\n",
              "      <td>2126.000000</td>\n",
              "      <td>2126.000000</td>\n",
              "      <td>2126.000000</td>\n",
              "      <td>2126.000000</td>\n",
              "      <td>2126.000000</td>\n",
              "    </tr>\n",
              "    <tr>\n",
              "      <th>mean</th>\n",
              "      <td>133.303857</td>\n",
              "      <td>0.009481</td>\n",
              "      <td>0.004366</td>\n",
              "      <td>0.001889</td>\n",
              "      <td>0.000003</td>\n",
              "      <td>0.000159</td>\n",
              "      <td>46.990122</td>\n",
              "      <td>1.304327</td>\n",
              "    </tr>\n",
              "    <tr>\n",
              "      <th>std</th>\n",
              "      <td>9.840844</td>\n",
              "      <td>0.046666</td>\n",
              "      <td>0.002946</td>\n",
              "      <td>0.002960</td>\n",
              "      <td>0.000057</td>\n",
              "      <td>0.000590</td>\n",
              "      <td>17.192814</td>\n",
              "      <td>0.614377</td>\n",
              "    </tr>\n",
              "    <tr>\n",
              "      <th>min</th>\n",
              "      <td>106.000000</td>\n",
              "      <td>0.000000</td>\n",
              "      <td>0.000000</td>\n",
              "      <td>0.000000</td>\n",
              "      <td>0.000000</td>\n",
              "      <td>0.000000</td>\n",
              "      <td>12.000000</td>\n",
              "      <td>1.000000</td>\n",
              "    </tr>\n",
              "    <tr>\n",
              "      <th>25%</th>\n",
              "      <td>126.000000</td>\n",
              "      <td>0.000000</td>\n",
              "      <td>0.002000</td>\n",
              "      <td>0.000000</td>\n",
              "      <td>0.000000</td>\n",
              "      <td>0.000000</td>\n",
              "      <td>32.000000</td>\n",
              "      <td>1.000000</td>\n",
              "    </tr>\n",
              "    <tr>\n",
              "      <th>50%</th>\n",
              "      <td>133.000000</td>\n",
              "      <td>0.000000</td>\n",
              "      <td>0.004000</td>\n",
              "      <td>0.000000</td>\n",
              "      <td>0.000000</td>\n",
              "      <td>0.000000</td>\n",
              "      <td>49.000000</td>\n",
              "      <td>1.000000</td>\n",
              "    </tr>\n",
              "    <tr>\n",
              "      <th>75%</th>\n",
              "      <td>140.000000</td>\n",
              "      <td>0.003000</td>\n",
              "      <td>0.007000</td>\n",
              "      <td>0.003000</td>\n",
              "      <td>0.000000</td>\n",
              "      <td>0.000000</td>\n",
              "      <td>61.000000</td>\n",
              "      <td>1.000000</td>\n",
              "    </tr>\n",
              "    <tr>\n",
              "      <th>max</th>\n",
              "      <td>160.000000</td>\n",
              "      <td>0.481000</td>\n",
              "      <td>0.015000</td>\n",
              "      <td>0.015000</td>\n",
              "      <td>0.001000</td>\n",
              "      <td>0.005000</td>\n",
              "      <td>87.000000</td>\n",
              "      <td>3.000000</td>\n",
              "    </tr>\n",
              "  </tbody>\n",
              "</table>\n",
              "</div>\n",
              "      <button class=\"colab-df-convert\" onclick=\"convertToInteractive('df-228ea487-e522-432b-b41c-dbf79b9cb8e3')\"\n",
              "              title=\"Convert this dataframe to an interactive table.\"\n",
              "              style=\"display:none;\">\n",
              "        \n",
              "  <svg xmlns=\"http://www.w3.org/2000/svg\" height=\"24px\"viewBox=\"0 0 24 24\"\n",
              "       width=\"24px\">\n",
              "    <path d=\"M0 0h24v24H0V0z\" fill=\"none\"/>\n",
              "    <path d=\"M18.56 5.44l.94 2.06.94-2.06 2.06-.94-2.06-.94-.94-2.06-.94 2.06-2.06.94zm-11 1L8.5 8.5l.94-2.06 2.06-.94-2.06-.94L8.5 2.5l-.94 2.06-2.06.94zm10 10l.94 2.06.94-2.06 2.06-.94-2.06-.94-.94-2.06-.94 2.06-2.06.94z\"/><path d=\"M17.41 7.96l-1.37-1.37c-.4-.4-.92-.59-1.43-.59-.52 0-1.04.2-1.43.59L10.3 9.45l-7.72 7.72c-.78.78-.78 2.05 0 2.83L4 21.41c.39.39.9.59 1.41.59.51 0 1.02-.2 1.41-.59l7.78-7.78 2.81-2.81c.8-.78.8-2.07 0-2.86zM5.41 20L4 18.59l7.72-7.72 1.47 1.35L5.41 20z\"/>\n",
              "  </svg>\n",
              "      </button>\n",
              "      \n",
              "  <style>\n",
              "    .colab-df-container {\n",
              "      display:flex;\n",
              "      flex-wrap:wrap;\n",
              "      gap: 12px;\n",
              "    }\n",
              "\n",
              "    .colab-df-convert {\n",
              "      background-color: #E8F0FE;\n",
              "      border: none;\n",
              "      border-radius: 50%;\n",
              "      cursor: pointer;\n",
              "      display: none;\n",
              "      fill: #1967D2;\n",
              "      height: 32px;\n",
              "      padding: 0 0 0 0;\n",
              "      width: 32px;\n",
              "    }\n",
              "\n",
              "    .colab-df-convert:hover {\n",
              "      background-color: #E2EBFA;\n",
              "      box-shadow: 0px 1px 2px rgba(60, 64, 67, 0.3), 0px 1px 3px 1px rgba(60, 64, 67, 0.15);\n",
              "      fill: #174EA6;\n",
              "    }\n",
              "\n",
              "    [theme=dark] .colab-df-convert {\n",
              "      background-color: #3B4455;\n",
              "      fill: #D2E3FC;\n",
              "    }\n",
              "\n",
              "    [theme=dark] .colab-df-convert:hover {\n",
              "      background-color: #434B5C;\n",
              "      box-shadow: 0px 1px 3px 1px rgba(0, 0, 0, 0.15);\n",
              "      filter: drop-shadow(0px 1px 2px rgba(0, 0, 0, 0.3));\n",
              "      fill: #FFFFFF;\n",
              "    }\n",
              "  </style>\n",
              "\n",
              "      <script>\n",
              "        const buttonEl =\n",
              "          document.querySelector('#df-228ea487-e522-432b-b41c-dbf79b9cb8e3 button.colab-df-convert');\n",
              "        buttonEl.style.display =\n",
              "          google.colab.kernel.accessAllowed ? 'block' : 'none';\n",
              "\n",
              "        async function convertToInteractive(key) {\n",
              "          const element = document.querySelector('#df-228ea487-e522-432b-b41c-dbf79b9cb8e3');\n",
              "          const dataTable =\n",
              "            await google.colab.kernel.invokeFunction('convertToInteractive',\n",
              "                                                     [key], {});\n",
              "          if (!dataTable) return;\n",
              "\n",
              "          const docLinkHtml = 'Like what you see? Visit the ' +\n",
              "            '<a target=\"_blank\" href=https://colab.research.google.com/notebooks/data_table.ipynb>data table notebook</a>'\n",
              "            + ' to learn more about interactive tables.';\n",
              "          element.innerHTML = '';\n",
              "          dataTable['output_type'] = 'display_data';\n",
              "          await google.colab.output.renderOutput(dataTable, element);\n",
              "          const docLink = document.createElement('div');\n",
              "          docLink.innerHTML = docLinkHtml;\n",
              "          element.appendChild(docLink);\n",
              "        }\n",
              "      </script>\n",
              "    </div>\n",
              "  </div>\n",
              "  "
            ]
          },
          "metadata": {},
          "execution_count": 45
        }
      ]
    },
    {
      "cell_type": "code",
      "source": [
        "X=df.drop([\"fetal_health\"],axis=1)\n",
        "y=df[\"fetal_health\"]\n",
        "\n",
        "\n",
        "col_names = list(X.columns)\n",
        "s_scaler = StandardScaler()\n",
        "X_scaled= s_scaler.fit_transform(X)\n",
        "X_scaled = pd.DataFrame(X_scaled, columns=col_names)   \n",
        "X_scaled.describe()\n"
      ],
      "metadata": {
        "colab": {
          "base_uri": "https://localhost:8080/",
          "height": 300
        },
        "id": "3DjKD6HwUGGv",
        "outputId": "67938d35-fd36-4704-fc5e-93b0ec0172f8"
      },
      "execution_count": null,
      "outputs": [
        {
          "output_type": "execute_result",
          "data": {
            "text/plain": [
              "       baseline value  fetal_movement  uterine_contractions  \\\n",
              "count    2.126000e+03    2.126000e+03          2.126000e+03   \n",
              "mean     1.069490e-15   -1.336863e-17         -1.336863e-16   \n",
              "std      1.000235e+00    1.000235e+00          1.000235e+00   \n",
              "min     -2.775197e+00   -2.032096e-01         -1.482465e+00   \n",
              "25%     -7.423728e-01   -2.032096e-01         -8.034341e-01   \n",
              "50%     -3.088439e-02   -2.032096e-01         -1.244037e-01   \n",
              "75%      6.806040e-01   -1.389076e-01          8.941419e-01   \n",
              "max      2.713428e+00    1.010654e+01          3.610264e+00   \n",
              "\n",
              "       light_decelerations  severe_decelerations  prolongued_decelerations  \\\n",
              "count         2.126000e+03          2.126000e+03              2.126000e+03   \n",
              "mean         -5.347452e-17          6.684315e-18              1.336863e-17   \n",
              "std           1.000235e+00          1.000235e+00              1.000235e+00   \n",
              "min          -6.384375e-01         -5.747560e-02             -2.687543e-01   \n",
              "25%          -6.384375e-01         -5.747560e-02             -2.687543e-01   \n",
              "50%          -6.384375e-01         -5.747560e-02             -2.687543e-01   \n",
              "75%           3.752430e-01         -5.747560e-02             -2.687543e-01   \n",
              "max           4.429965e+00          1.739869e+01              8.208570e+00   \n",
              "\n",
              "       abnormal_short_term_variability  \n",
              "count                     2.126000e+03  \n",
              "mean                     -7.352747e-17  \n",
              "std                       1.000235e+00  \n",
              "min                      -2.035639e+00  \n",
              "25%                      -8.720881e-01  \n",
              "50%                       1.169297e-01  \n",
              "75%                       8.150599e-01  \n",
              "max                       2.327675e+00  "
            ],
            "text/html": [
              "\n",
              "  <div id=\"df-cb7b2bc8-e1bd-4399-aff0-2dd0a9581869\">\n",
              "    <div class=\"colab-df-container\">\n",
              "      <div>\n",
              "<style scoped>\n",
              "    .dataframe tbody tr th:only-of-type {\n",
              "        vertical-align: middle;\n",
              "    }\n",
              "\n",
              "    .dataframe tbody tr th {\n",
              "        vertical-align: top;\n",
              "    }\n",
              "\n",
              "    .dataframe thead th {\n",
              "        text-align: right;\n",
              "    }\n",
              "</style>\n",
              "<table border=\"1\" class=\"dataframe\">\n",
              "  <thead>\n",
              "    <tr style=\"text-align: right;\">\n",
              "      <th></th>\n",
              "      <th>baseline value</th>\n",
              "      <th>fetal_movement</th>\n",
              "      <th>uterine_contractions</th>\n",
              "      <th>light_decelerations</th>\n",
              "      <th>severe_decelerations</th>\n",
              "      <th>prolongued_decelerations</th>\n",
              "      <th>abnormal_short_term_variability</th>\n",
              "    </tr>\n",
              "  </thead>\n",
              "  <tbody>\n",
              "    <tr>\n",
              "      <th>count</th>\n",
              "      <td>2.126000e+03</td>\n",
              "      <td>2.126000e+03</td>\n",
              "      <td>2.126000e+03</td>\n",
              "      <td>2.126000e+03</td>\n",
              "      <td>2.126000e+03</td>\n",
              "      <td>2.126000e+03</td>\n",
              "      <td>2.126000e+03</td>\n",
              "    </tr>\n",
              "    <tr>\n",
              "      <th>mean</th>\n",
              "      <td>1.069490e-15</td>\n",
              "      <td>-1.336863e-17</td>\n",
              "      <td>-1.336863e-16</td>\n",
              "      <td>-5.347452e-17</td>\n",
              "      <td>6.684315e-18</td>\n",
              "      <td>1.336863e-17</td>\n",
              "      <td>-7.352747e-17</td>\n",
              "    </tr>\n",
              "    <tr>\n",
              "      <th>std</th>\n",
              "      <td>1.000235e+00</td>\n",
              "      <td>1.000235e+00</td>\n",
              "      <td>1.000235e+00</td>\n",
              "      <td>1.000235e+00</td>\n",
              "      <td>1.000235e+00</td>\n",
              "      <td>1.000235e+00</td>\n",
              "      <td>1.000235e+00</td>\n",
              "    </tr>\n",
              "    <tr>\n",
              "      <th>min</th>\n",
              "      <td>-2.775197e+00</td>\n",
              "      <td>-2.032096e-01</td>\n",
              "      <td>-1.482465e+00</td>\n",
              "      <td>-6.384375e-01</td>\n",
              "      <td>-5.747560e-02</td>\n",
              "      <td>-2.687543e-01</td>\n",
              "      <td>-2.035639e+00</td>\n",
              "    </tr>\n",
              "    <tr>\n",
              "      <th>25%</th>\n",
              "      <td>-7.423728e-01</td>\n",
              "      <td>-2.032096e-01</td>\n",
              "      <td>-8.034341e-01</td>\n",
              "      <td>-6.384375e-01</td>\n",
              "      <td>-5.747560e-02</td>\n",
              "      <td>-2.687543e-01</td>\n",
              "      <td>-8.720881e-01</td>\n",
              "    </tr>\n",
              "    <tr>\n",
              "      <th>50%</th>\n",
              "      <td>-3.088439e-02</td>\n",
              "      <td>-2.032096e-01</td>\n",
              "      <td>-1.244037e-01</td>\n",
              "      <td>-6.384375e-01</td>\n",
              "      <td>-5.747560e-02</td>\n",
              "      <td>-2.687543e-01</td>\n",
              "      <td>1.169297e-01</td>\n",
              "    </tr>\n",
              "    <tr>\n",
              "      <th>75%</th>\n",
              "      <td>6.806040e-01</td>\n",
              "      <td>-1.389076e-01</td>\n",
              "      <td>8.941419e-01</td>\n",
              "      <td>3.752430e-01</td>\n",
              "      <td>-5.747560e-02</td>\n",
              "      <td>-2.687543e-01</td>\n",
              "      <td>8.150599e-01</td>\n",
              "    </tr>\n",
              "    <tr>\n",
              "      <th>max</th>\n",
              "      <td>2.713428e+00</td>\n",
              "      <td>1.010654e+01</td>\n",
              "      <td>3.610264e+00</td>\n",
              "      <td>4.429965e+00</td>\n",
              "      <td>1.739869e+01</td>\n",
              "      <td>8.208570e+00</td>\n",
              "      <td>2.327675e+00</td>\n",
              "    </tr>\n",
              "  </tbody>\n",
              "</table>\n",
              "</div>\n",
              "      <button class=\"colab-df-convert\" onclick=\"convertToInteractive('df-cb7b2bc8-e1bd-4399-aff0-2dd0a9581869')\"\n",
              "              title=\"Convert this dataframe to an interactive table.\"\n",
              "              style=\"display:none;\">\n",
              "        \n",
              "  <svg xmlns=\"http://www.w3.org/2000/svg\" height=\"24px\"viewBox=\"0 0 24 24\"\n",
              "       width=\"24px\">\n",
              "    <path d=\"M0 0h24v24H0V0z\" fill=\"none\"/>\n",
              "    <path d=\"M18.56 5.44l.94 2.06.94-2.06 2.06-.94-2.06-.94-.94-2.06-.94 2.06-2.06.94zm-11 1L8.5 8.5l.94-2.06 2.06-.94-2.06-.94L8.5 2.5l-.94 2.06-2.06.94zm10 10l.94 2.06.94-2.06 2.06-.94-2.06-.94-.94-2.06-.94 2.06-2.06.94z\"/><path d=\"M17.41 7.96l-1.37-1.37c-.4-.4-.92-.59-1.43-.59-.52 0-1.04.2-1.43.59L10.3 9.45l-7.72 7.72c-.78.78-.78 2.05 0 2.83L4 21.41c.39.39.9.59 1.41.59.51 0 1.02-.2 1.41-.59l7.78-7.78 2.81-2.81c.8-.78.8-2.07 0-2.86zM5.41 20L4 18.59l7.72-7.72 1.47 1.35L5.41 20z\"/>\n",
              "  </svg>\n",
              "      </button>\n",
              "      \n",
              "  <style>\n",
              "    .colab-df-container {\n",
              "      display:flex;\n",
              "      flex-wrap:wrap;\n",
              "      gap: 12px;\n",
              "    }\n",
              "\n",
              "    .colab-df-convert {\n",
              "      background-color: #E8F0FE;\n",
              "      border: none;\n",
              "      border-radius: 50%;\n",
              "      cursor: pointer;\n",
              "      display: none;\n",
              "      fill: #1967D2;\n",
              "      height: 32px;\n",
              "      padding: 0 0 0 0;\n",
              "      width: 32px;\n",
              "    }\n",
              "\n",
              "    .colab-df-convert:hover {\n",
              "      background-color: #E2EBFA;\n",
              "      box-shadow: 0px 1px 2px rgba(60, 64, 67, 0.3), 0px 1px 3px 1px rgba(60, 64, 67, 0.15);\n",
              "      fill: #174EA6;\n",
              "    }\n",
              "\n",
              "    [theme=dark] .colab-df-convert {\n",
              "      background-color: #3B4455;\n",
              "      fill: #D2E3FC;\n",
              "    }\n",
              "\n",
              "    [theme=dark] .colab-df-convert:hover {\n",
              "      background-color: #434B5C;\n",
              "      box-shadow: 0px 1px 3px 1px rgba(0, 0, 0, 0.15);\n",
              "      filter: drop-shadow(0px 1px 2px rgba(0, 0, 0, 0.3));\n",
              "      fill: #FFFFFF;\n",
              "    }\n",
              "  </style>\n",
              "\n",
              "      <script>\n",
              "        const buttonEl =\n",
              "          document.querySelector('#df-cb7b2bc8-e1bd-4399-aff0-2dd0a9581869 button.colab-df-convert');\n",
              "        buttonEl.style.display =\n",
              "          google.colab.kernel.accessAllowed ? 'block' : 'none';\n",
              "\n",
              "        async function convertToInteractive(key) {\n",
              "          const element = document.querySelector('#df-cb7b2bc8-e1bd-4399-aff0-2dd0a9581869');\n",
              "          const dataTable =\n",
              "            await google.colab.kernel.invokeFunction('convertToInteractive',\n",
              "                                                     [key], {});\n",
              "          if (!dataTable) return;\n",
              "\n",
              "          const docLinkHtml = 'Like what you see? Visit the ' +\n",
              "            '<a target=\"_blank\" href=https://colab.research.google.com/notebooks/data_table.ipynb>data table notebook</a>'\n",
              "            + ' to learn more about interactive tables.';\n",
              "          element.innerHTML = '';\n",
              "          dataTable['output_type'] = 'display_data';\n",
              "          await google.colab.output.renderOutput(dataTable, element);\n",
              "          const docLink = document.createElement('div');\n",
              "          docLink.innerHTML = docLinkHtml;\n",
              "          element.appendChild(docLink);\n",
              "        }\n",
              "      </script>\n",
              "    </div>\n",
              "  </div>\n",
              "  "
            ]
          },
          "metadata": {},
          "execution_count": 46
        }
      ]
    },
    {
      "cell_type": "code",
      "source": [
        "# Now we can see that they have been normalised into the range of 0-1\n",
        "df.describe()"
      ],
      "metadata": {
        "colab": {
          "base_uri": "https://localhost:8080/",
          "height": 300
        },
        "id": "bR6WK2enVCsK",
        "outputId": "5e3e9a89-7421-4d98-ec39-928ca8a51bb5"
      },
      "execution_count": null,
      "outputs": [
        {
          "output_type": "execute_result",
          "data": {
            "text/plain": [
              "       baseline value  fetal_movement  uterine_contractions  \\\n",
              "count     2126.000000     2126.000000           2126.000000   \n",
              "mean       133.303857        0.009481              0.004366   \n",
              "std          9.840844        0.046666              0.002946   \n",
              "min        106.000000        0.000000              0.000000   \n",
              "25%        126.000000        0.000000              0.002000   \n",
              "50%        133.000000        0.000000              0.004000   \n",
              "75%        140.000000        0.003000              0.007000   \n",
              "max        160.000000        0.481000              0.015000   \n",
              "\n",
              "       light_decelerations  severe_decelerations  prolongued_decelerations  \\\n",
              "count          2126.000000           2126.000000               2126.000000   \n",
              "mean              0.001889              0.000003                  0.000159   \n",
              "std               0.002960              0.000057                  0.000590   \n",
              "min               0.000000              0.000000                  0.000000   \n",
              "25%               0.000000              0.000000                  0.000000   \n",
              "50%               0.000000              0.000000                  0.000000   \n",
              "75%               0.003000              0.000000                  0.000000   \n",
              "max               0.015000              0.001000                  0.005000   \n",
              "\n",
              "       abnormal_short_term_variability  fetal_health  \n",
              "count                      2126.000000   2126.000000  \n",
              "mean                         46.990122      1.304327  \n",
              "std                          17.192814      0.614377  \n",
              "min                          12.000000      1.000000  \n",
              "25%                          32.000000      1.000000  \n",
              "50%                          49.000000      1.000000  \n",
              "75%                          61.000000      1.000000  \n",
              "max                          87.000000      3.000000  "
            ],
            "text/html": [
              "\n",
              "  <div id=\"df-d5006a0b-0712-4028-aeb1-ecb77d80c543\">\n",
              "    <div class=\"colab-df-container\">\n",
              "      <div>\n",
              "<style scoped>\n",
              "    .dataframe tbody tr th:only-of-type {\n",
              "        vertical-align: middle;\n",
              "    }\n",
              "\n",
              "    .dataframe tbody tr th {\n",
              "        vertical-align: top;\n",
              "    }\n",
              "\n",
              "    .dataframe thead th {\n",
              "        text-align: right;\n",
              "    }\n",
              "</style>\n",
              "<table border=\"1\" class=\"dataframe\">\n",
              "  <thead>\n",
              "    <tr style=\"text-align: right;\">\n",
              "      <th></th>\n",
              "      <th>baseline value</th>\n",
              "      <th>fetal_movement</th>\n",
              "      <th>uterine_contractions</th>\n",
              "      <th>light_decelerations</th>\n",
              "      <th>severe_decelerations</th>\n",
              "      <th>prolongued_decelerations</th>\n",
              "      <th>abnormal_short_term_variability</th>\n",
              "      <th>fetal_health</th>\n",
              "    </tr>\n",
              "  </thead>\n",
              "  <tbody>\n",
              "    <tr>\n",
              "      <th>count</th>\n",
              "      <td>2126.000000</td>\n",
              "      <td>2126.000000</td>\n",
              "      <td>2126.000000</td>\n",
              "      <td>2126.000000</td>\n",
              "      <td>2126.000000</td>\n",
              "      <td>2126.000000</td>\n",
              "      <td>2126.000000</td>\n",
              "      <td>2126.000000</td>\n",
              "    </tr>\n",
              "    <tr>\n",
              "      <th>mean</th>\n",
              "      <td>133.303857</td>\n",
              "      <td>0.009481</td>\n",
              "      <td>0.004366</td>\n",
              "      <td>0.001889</td>\n",
              "      <td>0.000003</td>\n",
              "      <td>0.000159</td>\n",
              "      <td>46.990122</td>\n",
              "      <td>1.304327</td>\n",
              "    </tr>\n",
              "    <tr>\n",
              "      <th>std</th>\n",
              "      <td>9.840844</td>\n",
              "      <td>0.046666</td>\n",
              "      <td>0.002946</td>\n",
              "      <td>0.002960</td>\n",
              "      <td>0.000057</td>\n",
              "      <td>0.000590</td>\n",
              "      <td>17.192814</td>\n",
              "      <td>0.614377</td>\n",
              "    </tr>\n",
              "    <tr>\n",
              "      <th>min</th>\n",
              "      <td>106.000000</td>\n",
              "      <td>0.000000</td>\n",
              "      <td>0.000000</td>\n",
              "      <td>0.000000</td>\n",
              "      <td>0.000000</td>\n",
              "      <td>0.000000</td>\n",
              "      <td>12.000000</td>\n",
              "      <td>1.000000</td>\n",
              "    </tr>\n",
              "    <tr>\n",
              "      <th>25%</th>\n",
              "      <td>126.000000</td>\n",
              "      <td>0.000000</td>\n",
              "      <td>0.002000</td>\n",
              "      <td>0.000000</td>\n",
              "      <td>0.000000</td>\n",
              "      <td>0.000000</td>\n",
              "      <td>32.000000</td>\n",
              "      <td>1.000000</td>\n",
              "    </tr>\n",
              "    <tr>\n",
              "      <th>50%</th>\n",
              "      <td>133.000000</td>\n",
              "      <td>0.000000</td>\n",
              "      <td>0.004000</td>\n",
              "      <td>0.000000</td>\n",
              "      <td>0.000000</td>\n",
              "      <td>0.000000</td>\n",
              "      <td>49.000000</td>\n",
              "      <td>1.000000</td>\n",
              "    </tr>\n",
              "    <tr>\n",
              "      <th>75%</th>\n",
              "      <td>140.000000</td>\n",
              "      <td>0.003000</td>\n",
              "      <td>0.007000</td>\n",
              "      <td>0.003000</td>\n",
              "      <td>0.000000</td>\n",
              "      <td>0.000000</td>\n",
              "      <td>61.000000</td>\n",
              "      <td>1.000000</td>\n",
              "    </tr>\n",
              "    <tr>\n",
              "      <th>max</th>\n",
              "      <td>160.000000</td>\n",
              "      <td>0.481000</td>\n",
              "      <td>0.015000</td>\n",
              "      <td>0.015000</td>\n",
              "      <td>0.001000</td>\n",
              "      <td>0.005000</td>\n",
              "      <td>87.000000</td>\n",
              "      <td>3.000000</td>\n",
              "    </tr>\n",
              "  </tbody>\n",
              "</table>\n",
              "</div>\n",
              "      <button class=\"colab-df-convert\" onclick=\"convertToInteractive('df-d5006a0b-0712-4028-aeb1-ecb77d80c543')\"\n",
              "              title=\"Convert this dataframe to an interactive table.\"\n",
              "              style=\"display:none;\">\n",
              "        \n",
              "  <svg xmlns=\"http://www.w3.org/2000/svg\" height=\"24px\"viewBox=\"0 0 24 24\"\n",
              "       width=\"24px\">\n",
              "    <path d=\"M0 0h24v24H0V0z\" fill=\"none\"/>\n",
              "    <path d=\"M18.56 5.44l.94 2.06.94-2.06 2.06-.94-2.06-.94-.94-2.06-.94 2.06-2.06.94zm-11 1L8.5 8.5l.94-2.06 2.06-.94-2.06-.94L8.5 2.5l-.94 2.06-2.06.94zm10 10l.94 2.06.94-2.06 2.06-.94-2.06-.94-.94-2.06-.94 2.06-2.06.94z\"/><path d=\"M17.41 7.96l-1.37-1.37c-.4-.4-.92-.59-1.43-.59-.52 0-1.04.2-1.43.59L10.3 9.45l-7.72 7.72c-.78.78-.78 2.05 0 2.83L4 21.41c.39.39.9.59 1.41.59.51 0 1.02-.2 1.41-.59l7.78-7.78 2.81-2.81c.8-.78.8-2.07 0-2.86zM5.41 20L4 18.59l7.72-7.72 1.47 1.35L5.41 20z\"/>\n",
              "  </svg>\n",
              "      </button>\n",
              "      \n",
              "  <style>\n",
              "    .colab-df-container {\n",
              "      display:flex;\n",
              "      flex-wrap:wrap;\n",
              "      gap: 12px;\n",
              "    }\n",
              "\n",
              "    .colab-df-convert {\n",
              "      background-color: #E8F0FE;\n",
              "      border: none;\n",
              "      border-radius: 50%;\n",
              "      cursor: pointer;\n",
              "      display: none;\n",
              "      fill: #1967D2;\n",
              "      height: 32px;\n",
              "      padding: 0 0 0 0;\n",
              "      width: 32px;\n",
              "    }\n",
              "\n",
              "    .colab-df-convert:hover {\n",
              "      background-color: #E2EBFA;\n",
              "      box-shadow: 0px 1px 2px rgba(60, 64, 67, 0.3), 0px 1px 3px 1px rgba(60, 64, 67, 0.15);\n",
              "      fill: #174EA6;\n",
              "    }\n",
              "\n",
              "    [theme=dark] .colab-df-convert {\n",
              "      background-color: #3B4455;\n",
              "      fill: #D2E3FC;\n",
              "    }\n",
              "\n",
              "    [theme=dark] .colab-df-convert:hover {\n",
              "      background-color: #434B5C;\n",
              "      box-shadow: 0px 1px 3px 1px rgba(0, 0, 0, 0.15);\n",
              "      filter: drop-shadow(0px 1px 2px rgba(0, 0, 0, 0.3));\n",
              "      fill: #FFFFFF;\n",
              "    }\n",
              "  </style>\n",
              "\n",
              "      <script>\n",
              "        const buttonEl =\n",
              "          document.querySelector('#df-d5006a0b-0712-4028-aeb1-ecb77d80c543 button.colab-df-convert');\n",
              "        buttonEl.style.display =\n",
              "          google.colab.kernel.accessAllowed ? 'block' : 'none';\n",
              "\n",
              "        async function convertToInteractive(key) {\n",
              "          const element = document.querySelector('#df-d5006a0b-0712-4028-aeb1-ecb77d80c543');\n",
              "          const dataTable =\n",
              "            await google.colab.kernel.invokeFunction('convertToInteractive',\n",
              "                                                     [key], {});\n",
              "          if (!dataTable) return;\n",
              "\n",
              "          const docLinkHtml = 'Like what you see? Visit the ' +\n",
              "            '<a target=\"_blank\" href=https://colab.research.google.com/notebooks/data_table.ipynb>data table notebook</a>'\n",
              "            + ' to learn more about interactive tables.';\n",
              "          element.innerHTML = '';\n",
              "          dataTable['output_type'] = 'display_data';\n",
              "          await google.colab.output.renderOutput(dataTable, element);\n",
              "          const docLink = document.createElement('div');\n",
              "          docLink.innerHTML = docLinkHtml;\n",
              "          element.appendChild(docLink);\n",
              "        }\n",
              "      </script>\n",
              "    </div>\n",
              "  </div>\n",
              "  "
            ]
          },
          "metadata": {},
          "execution_count": 47
        }
      ]
    },
    {
      "cell_type": "markdown",
      "source": [
        "* BoxPlot : Checking for Outliers"
      ],
      "metadata": {
        "id": "OAZ-A3mcaZ7x"
      }
    },
    {
      "cell_type": "code",
      "source": [
        "def show_outliers(df):\n",
        "    # boxplot will show the outliers in Q1 , Q3 , IQR and outliers\n",
        "    plt.figure(figsize=(25,10))\n",
        "    sns.boxplot(data=df, width=0.22)"
      ],
      "metadata": {
        "id": "7R1IiNfwZNju"
      },
      "execution_count": null,
      "outputs": []
    },
    {
      "cell_type": "code",
      "source": [
        "# show the outliers and then decide and remove them\n",
        "show_outliers(X_scaled)"
      ],
      "metadata": {
        "colab": {
          "base_uri": "https://localhost:8080/",
          "height": 580
        },
        "id": "2_QJWZs0avFJ",
        "outputId": "0dbe897e-e2fa-4ebe-ac07-dd741192f3f8"
      },
      "execution_count": null,
      "outputs": [
        {
          "output_type": "display_data",
          "data": {
            "text/plain": [
              "<Figure size 1800x720 with 1 Axes>"
            ],
            "image/png": "[encoded data removed]"
          },
          "metadata": {
            "needs_background": "light"
          }
        }
      ]
    },
    {
      "cell_type": "markdown",
      "source": [
        "* Outliers can be clearly be spotted in majorly of fetal_movement, prolongued decelerations, light decelerations.\n",
        "\n",
        "which we have to make a call whether to take it along or drop it off.\n",
        "* **Since this is medical field data , there can be positive case of having such data and its not human error , we will not drop them**. "
      ],
      "metadata": {
        "id": "P3pCkpV4a6oc"
      }
    },
    {
      "cell_type": "markdown",
      "source": [
        "# 4. **Feature Selection**"
      ],
      "metadata": {
        "id": "FXvP5yvZbuII"
      }
    },
    {
      "cell_type": "markdown",
      "source": [
        " **We dont required any FE technique as features are already mentioned in problem statement :X :  baseline value, fetal_movement , uterine_contractions, light_decelerations, severe_decelerations, prolongued_decelerations, abnormal_short_term_variability and Y : fetal_health**"
      ],
      "metadata": {
        "id": "eyu7HsIHy0OY"
      }
    },
    {
      "cell_type": "markdown",
      "source": [
        "# 5. **MODEL BUILDING**"
      ],
      "metadata": {
        "id": "4K01A8C41-rs"
      }
    },
    {
      "cell_type": "markdown",
      "source": [
        "**Split the data as mentioned in problem statement**"
      ],
      "metadata": {
        "id": "CYFXhlMlfAzg"
      }
    },
    {
      "cell_type": "code",
      "source": [
        "# Set Training and Testing Data as per mentioned criteria of 70 % training and 30 % test\n",
        "X_train, X_test, y_train, y_test = train_test_split(X, y, test_size = .3, random_state = 1)\n",
        "print('Shape of training feature:', X_train.shape)\n",
        "print('Shape of testing feature:', X_test.shape)\n",
        "print('Shape of training label:', y_train.shape)\n",
        "print('Shape of testing label:', y_test.shape)"
      ],
      "metadata": {
        "colab": {
          "base_uri": "https://localhost:8080/"
        },
        "id": "ffsztF8VHdo_",
        "outputId": "be4fb181-39c5-43b3-dd82-ae2b4d6a2133"
      },
      "execution_count": null,
      "outputs": [
        {
          "output_type": "stream",
          "name": "stdout",
          "text": [
            "Shape of training feature: (1488, 7)\n",
            "Shape of testing feature: (638, 7)\n",
            "Shape of training label: (1488,)\n",
            "Shape of testing label: (638,)\n"
          ]
        }
      ]
    },
    {
      "cell_type": "markdown",
      "source": [
        "DecisionTreeClassifier : As given in problem statement , need to apply this model and check /evaluate the model.\n",
        "\n",
        "Decision Tree - It has many parameters to choose to decide which is best fit for a given dataset. \n",
        "Example of parameters to choose are:\n",
        " \n",
        "\n",
        "1.   Best Split (Function to measure the quality of a split ) : Gini / Entropy \n",
        "Default being Gini in below sklearn.DecisionTreeClassifier\n",
        "\n",
        "2.   max_depth:  maximum depth of tree for which split has to be carried out . It can lead to overfitting if we choose to high value.\n",
        "\n",
        "3. min_samples_split : minium smaples required to split the internal nodes . Default 2 . This is used to control over fitting but way too high lead to under fitting .\n",
        "\n",
        "4. min_samples_leaf : minimum number of samples required to be at a leaf node . Default is 1 . This is also used to control over fitting by creating way too many small branches\n",
        "\n",
        "Similarly we have many other parameters like min_weight_fraction_leaf , max_features, min_impurity_decrease etc . For our case we will try to find the best parameters by considering best_split , max_depth , min_sample_split, min_samples_leaf and keeping the randomness value same across .\n"
      ],
      "metadata": {
        "id": "c_vcYQ1-46Sq"
      }
    },
    {
      "cell_type": "code",
      "source": [
        "# Model fitting\n",
        "decision_tree_clf = DecisionTreeClassifier(max_depth=2)\n",
        "decision_tree_clf.fit(X_train, y_train)\n",
        "y_train_pred = decision_tree_clf.predict(X_train)\n",
        "y_test_pred = decision_tree_clf.predict(X_test)"
      ],
      "metadata": {
        "id": "tTmjkYNwcPyA"
      },
      "execution_count": null,
      "outputs": []
    },
    {
      "cell_type": "code",
      "source": [
        "# Below is overall accuracy score of default hyper parameters decision tree  classifier on train and test data . \n",
        "# We can use these to compare with best parameter decision tree classifier result.\n",
        "print(\"Accuracy score for Default DecisionTreeClassifier on train data: \", metrics.accuracy_score(y_train, y_train_pred) * 100)\n",
        "print(\"Confusion matrix for Default DecisionTreeClassifier on train  data \\n\", metrics.confusion_matrix(y_test, y_test_pred))\n"
      ],
      "metadata": {
        "colab": {
          "base_uri": "https://localhost:8080/"
        },
        "id": "735ot8KUEcBu",
        "outputId": "a1fba237-b5a7-43bc-a94b-d17ea056e351"
      },
      "execution_count": null,
      "outputs": [
        {
          "output_type": "stream",
          "name": "stdout",
          "text": [
            "Accuracy score for Default DecisionTreeClassifier on train data:  81.65322580645162\n",
            "Confusion matrix for Default DecisionTreeClassifier on train  data \n",
            " [[487   0   3]\n",
            " [ 93   0   3]\n",
            " [ 31   0  21]]\n"
          ]
        }
      ]
    },
    {
      "cell_type": "markdown",
      "source": [
        "# 6. Model Evaluation"
      ],
      "metadata": {
        "id": "4pO8AFXC7O5c"
      }
    },
    {
      "cell_type": "code",
      "source": [
        "def evaluate_model(model, x_test, y_test):\n",
        "    from sklearn import metrics\n",
        "\n",
        "    # Predict Test Data \n",
        "    y_pred = model.predict(x_test)\n",
        "\n",
        "    # Calculate accuracy, precision, recall, f1-score, and kappa score\n",
        "    acc = metrics.accuracy_score(y_test, y_pred)\n",
        "    prec = metrics.precision_score(y_test, y_pred, average='macro')\n",
        "    rec = metrics.recall_score(y_test, y_pred, average='macro')\n",
        "    f1 = metrics.f1_score(y_test, y_pred, average='macro')\n",
        "\n",
        "   # Display confussion matrix\n",
        "    cm = metrics.confusion_matrix(y_test, y_pred)\n",
        "\n",
        "    return {'acc': acc, 'prec': prec, 'rec': rec, 'f1': f1,'cm': cm}"
      ],
      "metadata": {
        "id": "gbNgmpv2cAQU"
      },
      "execution_count": null,
      "outputs": []
    },
    {
      "cell_type": "code",
      "source": [
        "# Model Evaluation on test dataset\n",
        "dt_evaluate = evaluate_model(decision_tree_clf , X_test, y_test)\n",
        "\n",
        "\n",
        "# Getting the Confusion matrix\n",
        "sns.heatmap(dt_evaluate['cm'], annot=True, cmap='viridis', cbar=False, linewidths=3, linecolor='w', xticklabels=['a','b','c'])\n",
        "plt.title('Confusion Matrix', fontsize = 16)\n",
        "plt.show()"
      ],
      "metadata": {
        "colab": {
          "base_uri": "https://localhost:8080/",
          "height": 283
        },
        "id": "w48pVL7OdbAc",
        "outputId": "46bcc832-b03c-4fc7-fa5d-45515de0685b"
      },
      "execution_count": null,
      "outputs": [
        {
          "output_type": "display_data",
          "data": {
            "text/plain": [
              "<Figure size 432x288 with 1 Axes>"
            ],
            "image/png": "[encoded data removed]"
          },
          "metadata": {
            "needs_background": "light"
          }
        }
      ]
    },
    {
      "cell_type": "markdown",
      "source": [
        "Confusion matrix is performance measure of the ML model . It has 4 different combinations of predicted and actual values.\n",
        "\n",
        "Calculations of the Confusion matrix are provided in the document file since the value might change after changing some parameters.\n",
        "\n",
        "The Confusion matrices values are :\n",
        "> True Positive:You predicted positive and it’s true\n",
        "> True Negative:You predicted negative and it’s true.\n",
        "> False Positive: (Type 1 Error):You predicted positive and it’s false.\n",
        "> False Negative: (Type 2 Error):You predicted negative and it’s false.\n",
        "\n",
        "\n",
        "Implications of Type 1 Error:  In this case we predicted fetal health is  normal but its normal actually. If this happens still the user can scan and get tests done . There wont be any harm.\n",
        "\n",
        "\n",
        "Implications of Type 2 Error: In this case we predicted fetal health is not critical but its not normal actually .  It is more dangerous and can lead to dangerous feteous issues ."
      ],
      "metadata": {
        "id": "qYjDP-LfFH4f"
      }
    },
    {
      "cell_type": "code",
      "source": [
        "# Model Accuracy based on Confusion Matrix\n",
        "container = pd.DataFrame(pd.Series({'Accuracy':dt_evaluate['acc'],'Precision':dt_evaluate['prec'],'Recall':dt_evaluate['rec'],'F1 Score':dt_evaluate['f1']  }, name = 'Result') )\n",
        "container"
      ],
      "metadata": {
        "colab": {
          "base_uri": "https://localhost:8080/",
          "height": 175
        },
        "id": "Z7LFgrR0ccff",
        "outputId": "1fc20eb9-a342-49ac-f5d8-ed3de35f0f96"
      },
      "execution_count": null,
      "outputs": [
        {
          "output_type": "execute_result",
          "data": {
            "text/plain": [
              "             Result\n",
              "Accuracy   0.796238\n",
              "Precision  0.524944\n",
              "Recall     0.465908\n",
              "F1 Score   0.472099"
            ],
            "text/html": [
              "\n",
              "  <div id=\"df-f7cd8953-fbd3-489d-8576-4dbfc2c26cde\">\n",
              "    <div class=\"colab-df-container\">\n",
              "      <div>\n",
              "<style scoped>\n",
              "    .dataframe tbody tr th:only-of-type {\n",
              "        vertical-align: middle;\n",
              "    }\n",
              "\n",
              "    .dataframe tbody tr th {\n",
              "        vertical-align: top;\n",
              "    }\n",
              "\n",
              "    .dataframe thead th {\n",
              "        text-align: right;\n",
              "    }\n",
              "</style>\n",
              "<table border=\"1\" class=\"dataframe\">\n",
              "  <thead>\n",
              "    <tr style=\"text-align: right;\">\n",
              "      <th></th>\n",
              "      <th>Result</th>\n",
              "    </tr>\n",
              "  </thead>\n",
              "  <tbody>\n",
              "    <tr>\n",
              "      <th>Accuracy</th>\n",
              "      <td>0.796238</td>\n",
              "    </tr>\n",
              "    <tr>\n",
              "      <th>Precision</th>\n",
              "      <td>0.524944</td>\n",
              "    </tr>\n",
              "    <tr>\n",
              "      <th>Recall</th>\n",
              "      <td>0.465908</td>\n",
              "    </tr>\n",
              "    <tr>\n",
              "      <th>F1 Score</th>\n",
              "      <td>0.472099</td>\n",
              "    </tr>\n",
              "  </tbody>\n",
              "</table>\n",
              "</div>\n",
              "      <button class=\"colab-df-convert\" onclick=\"convertToInteractive('df-f7cd8953-fbd3-489d-8576-4dbfc2c26cde')\"\n",
              "              title=\"Convert this dataframe to an interactive table.\"\n",
              "              style=\"display:none;\">\n",
              "        \n",
              "  <svg xmlns=\"http://www.w3.org/2000/svg\" height=\"24px\"viewBox=\"0 0 24 24\"\n",
              "       width=\"24px\">\n",
              "    <path d=\"M0 0h24v24H0V0z\" fill=\"none\"/>\n",
              "    <path d=\"M18.56 5.44l.94 2.06.94-2.06 2.06-.94-2.06-.94-.94-2.06-.94 2.06-2.06.94zm-11 1L8.5 8.5l.94-2.06 2.06-.94-2.06-.94L8.5 2.5l-.94 2.06-2.06.94zm10 10l.94 2.06.94-2.06 2.06-.94-2.06-.94-.94-2.06-.94 2.06-2.06.94z\"/><path d=\"M17.41 7.96l-1.37-1.37c-.4-.4-.92-.59-1.43-.59-.52 0-1.04.2-1.43.59L10.3 9.45l-7.72 7.72c-.78.78-.78 2.05 0 2.83L4 21.41c.39.39.9.59 1.41.59.51 0 1.02-.2 1.41-.59l7.78-7.78 2.81-2.81c.8-.78.8-2.07 0-2.86zM5.41 20L4 18.59l7.72-7.72 1.47 1.35L5.41 20z\"/>\n",
              "  </svg>\n",
              "      </button>\n",
              "      \n",
              "  <style>\n",
              "    .colab-df-container {\n",
              "      display:flex;\n",
              "      flex-wrap:wrap;\n",
              "      gap: 12px;\n",
              "    }\n",
              "\n",
              "    .colab-df-convert {\n",
              "      background-color: #E8F0FE;\n",
              "      border: none;\n",
              "      border-radius: 50%;\n",
              "      cursor: pointer;\n",
              "      display: none;\n",
              "      fill: #1967D2;\n",
              "      height: 32px;\n",
              "      padding: 0 0 0 0;\n",
              "      width: 32px;\n",
              "    }\n",
              "\n",
              "    .colab-df-convert:hover {\n",
              "      background-color: #E2EBFA;\n",
              "      box-shadow: 0px 1px 2px rgba(60, 64, 67, 0.3), 0px 1px 3px 1px rgba(60, 64, 67, 0.15);\n",
              "      fill: #174EA6;\n",
              "    }\n",
              "\n",
              "    [theme=dark] .colab-df-convert {\n",
              "      background-color: #3B4455;\n",
              "      fill: #D2E3FC;\n",
              "    }\n",
              "\n",
              "    [theme=dark] .colab-df-convert:hover {\n",
              "      background-color: #434B5C;\n",
              "      box-shadow: 0px 1px 3px 1px rgba(0, 0, 0, 0.15);\n",
              "      filter: drop-shadow(0px 1px 2px rgba(0, 0, 0, 0.3));\n",
              "      fill: #FFFFFF;\n",
              "    }\n",
              "  </style>\n",
              "\n",
              "      <script>\n",
              "        const buttonEl =\n",
              "          document.querySelector('#df-f7cd8953-fbd3-489d-8576-4dbfc2c26cde button.colab-df-convert');\n",
              "        buttonEl.style.display =\n",
              "          google.colab.kernel.accessAllowed ? 'block' : 'none';\n",
              "\n",
              "        async function convertToInteractive(key) {\n",
              "          const element = document.querySelector('#df-f7cd8953-fbd3-489d-8576-4dbfc2c26cde');\n",
              "          const dataTable =\n",
              "            await google.colab.kernel.invokeFunction('convertToInteractive',\n",
              "                                                     [key], {});\n",
              "          if (!dataTable) return;\n",
              "\n",
              "          const docLinkHtml = 'Like what you see? Visit the ' +\n",
              "            '<a target=\"_blank\" href=https://colab.research.google.com/notebooks/data_table.ipynb>data table notebook</a>'\n",
              "            + ' to learn more about interactive tables.';\n",
              "          element.innerHTML = '';\n",
              "          dataTable['output_type'] = 'display_data';\n",
              "          await google.colab.output.renderOutput(dataTable, element);\n",
              "          const docLink = document.createElement('div');\n",
              "          docLink.innerHTML = docLinkHtml;\n",
              "          element.appendChild(docLink);\n",
              "        }\n",
              "      </script>\n",
              "    </div>\n",
              "  </div>\n",
              "  "
            ]
          },
          "metadata": {},
          "execution_count": 24
        }
      ]
    },
    {
      "cell_type": "markdown",
      "source": [
        "Observation: The Accuracy , Precision , Recall , F1 score are : 79 %, 52 % , 46 \n",
        "% and 47 % respectively \n",
        "\n"
      ],
      "metadata": {
        "id": "_uCz30LOm5aI"
      }
    },
    {
      "cell_type": "markdown",
      "source": [
        "Classification Report : For all 3 classes"
      ],
      "metadata": {
        "id": "YpjAY216gzsh"
      }
    },
    {
      "cell_type": "code",
      "source": [
        "print(\"Classification Report :\\n\")\n",
        "y_pred = decision_tree_clf.predict(X_test)\n",
        "print(classification_report(y_test, y_pred))\n",
        "\n",
        "# For Micro class, we will compute it\n",
        "micro_prec = round(metrics.precision_score(y_test, y_pred, average='micro'),2)\n",
        "micro_rec = round(metrics.recall_score(y_test, y_pred, average='micro'),2)\n",
        "micro_f1 = round(metrics.f1_score(y_test, y_pred, average='micro'),2)\n",
        "print(f'micro avg    \\t {micro_prec} \\t {micro_rec} \\t {micro_f1}')"
      ],
      "metadata": {
        "colab": {
          "base_uri": "https://localhost:8080/"
        },
        "id": "zWGL0VexFISz",
        "outputId": "aa9d4fd0-7051-424c-8ae0-3394455d9d03"
      },
      "execution_count": null,
      "outputs": [
        {
          "output_type": "stream",
          "name": "stdout",
          "text": [
            "Classification Report :\n",
            "\n",
            "              precision    recall  f1-score   support\n",
            "\n",
            "         1.0       0.80      0.99      0.88       490\n",
            "         2.0       0.00      0.00      0.00        96\n",
            "         3.0       0.78      0.40      0.53        52\n",
            "\n",
            "    accuracy                           0.80       638\n",
            "   macro avg       0.52      0.47      0.47       638\n",
            "weighted avg       0.68      0.80      0.72       638\n",
            "\n",
            "micro avg    \t 0.8 \t 0.8 \t 0.8\n"
          ]
        }
      ]
    },
    {
      "cell_type": "markdown",
      "source": [
        "We can see that from Confuson matrix for macro and weighted avg , the model is not giving great results and is not a good sign. Hence we will try to fine tune hyper parameters and try checking performance of model."
      ],
      "metadata": {
        "id": "KkXhJFPmgyuL"
      }
    },
    {
      "cell_type": "markdown",
      "source": [
        "**Finding Best DecisionTree Hyper Parameters** \n",
        "\n",
        "Tunning/Finding the best parameters like max_depth , best_fit(gini/entropy) , min_samples_leaf to improve accuracy and to avoid over and under fitting.\n",
        "For these we will consider a sample hyper params list by picking the data in different data ranges and run different permutations on it. We should ideally have values in range list(range(1,len(X))) . But these values will consume lot of machine power and many combinations , hence we will randomanly pick certain values and try to find best fit parameters"
      ],
      "metadata": {
        "id": "EhK1ZKczffNd"
      }
    },
    {
      "cell_type": "code",
      "source": [
        "# Sample parameter's based with different max_depth , min_samples_leaf and best_split function of gini or entropy. \n",
        "sample_hyper_params = {\n",
        "    'max_depth': [2, 3, 5, 6],\n",
        "    'min_samples_leaf': [1, 4, 5, 6],\n",
        "    'criterion': [\"gini\", \"entropy\"]\n",
        "}"
      ],
      "metadata": {
        "id": "uDYKoFw1F-Vb"
      },
      "execution_count": null,
      "outputs": []
    },
    {
      "cell_type": "code",
      "source": [
        "decision_tree_clf = DecisionTreeClassifier()\n",
        "\n",
        "# As we can see there are various combinations we need to try so as to arrive at best parameter combination giving highest accuracy . \n",
        "# Hence to solve this we shall use GridSearchCV. This will help us with trying different combinations .\n",
        "# GridSearchCV which will take the algo , sample parameters etc as inputs and gives the various results like mean_test_score with every possible hyper params.\n",
        "grid_search = GridSearchCV(estimator=decision_tree_clf, \n",
        "                           param_grid=sample_hyper_params, \n",
        "                           cv=4, n_jobs=-1, verbose=1, scoring = \"accuracy\")\n",
        "grid_search.fit(X_train, y_train)"
      ],
      "metadata": {
        "colab": {
          "base_uri": "https://localhost:8080/"
        },
        "id": "u9FDuIeGfpSH",
        "outputId": "e1a770b8-2f5b-4187-e655-a704e2486965"
      },
      "execution_count": null,
      "outputs": [
        {
          "output_type": "stream",
          "name": "stdout",
          "text": [
            "Fitting 4 folds for each of 32 candidates, totalling 128 fits\n"
          ]
        },
        {
          "output_type": "execute_result",
          "data": {
            "text/plain": [
              "GridSearchCV(cv=4, estimator=DecisionTreeClassifier(), n_jobs=-1,\n",
              "             param_grid={'criterion': ['gini', 'entropy'],\n",
              "                         'max_depth': [2, 3, 5, 6],\n",
              "                         'min_samples_leaf': [1, 4, 5, 6]},\n",
              "             scoring='accuracy', verbose=1)"
            ]
          },
          "metadata": {},
          "execution_count": 27
        }
      ]
    },
    {
      "cell_type": "code",
      "source": [
        "# Printing  accuracy score of best decision tree on train and test data . \n",
        "best_decision_classifier = grid_search.best_estimator_\n",
        "best_decision_tree_parameters = grid_search.best_params_\n",
        "print(\"Accuracy score for Best DecisionTreeClassifier on train data: \", accuracy_score(y_train, best_decision_classifier.predict(X_train)) * 100)\n",
        "print(\"Accuracy score for Best DecisionTreeClassifier on test  data\", accuracy_score(y_test, best_decision_classifier.predict(X_test)) * 100)\n",
        "print(f'\\033[1mThe Best Parameters for Best DecisionTreeClassifier are : {best_decision_tree_parameters} \\033[0m')\n"
      ],
      "metadata": {
        "colab": {
          "base_uri": "https://localhost:8080/"
        },
        "id": "lOLOdCisftDv",
        "outputId": "79f208e9-c07b-42ca-b42a-e8ff287909ea"
      },
      "execution_count": null,
      "outputs": [
        {
          "output_type": "stream",
          "name": "stdout",
          "text": [
            "Accuracy score for Best DecisionTreeClassifier on train data:  91.59946236559139\n",
            "Accuracy score for Best DecisionTreeClassifier on test  data 86.99059561128527\n",
            "\u001b[1mThe Best Parameters for Best DecisionTreeClassifier are : {'criterion': 'gini', 'max_depth': 6, 'min_samples_leaf': 1} \u001b[0m\n"
          ]
        }
      ]
    },
    {
      "cell_type": "code",
      "source": [
        "# Model Evaluation on test dataset\n",
        "dt_evaluate = evaluate_model(best_decision_classifier , X_test, y_test)\n",
        "\n",
        "\n",
        "container = pd.DataFrame(pd.Series({'Accuracy':dt_evaluate['acc'],'Precision':dt_evaluate['prec'],'Recall':dt_evaluate['rec'],'F1 Score':dt_evaluate['f1']  }, name = 'Result') )\n",
        "container"
      ],
      "metadata": {
        "colab": {
          "base_uri": "https://localhost:8080/",
          "height": 175
        },
        "id": "QviMNMg8gEuG",
        "outputId": "038e7339-47b8-4109-b53c-04c6e889af0d"
      },
      "execution_count": null,
      "outputs": [
        {
          "output_type": "execute_result",
          "data": {
            "text/plain": [
              "             Result\n",
              "Accuracy   0.869906\n",
              "Precision  0.811794\n",
              "Recall     0.682880\n",
              "F1 Score   0.728005"
            ],
            "text/html": [
              "\n",
              "  <div id=\"df-8d9da5c7-743c-4181-b6d9-977d6d9a9698\">\n",
              "    <div class=\"colab-df-container\">\n",
              "      <div>\n",
              "<style scoped>\n",
              "    .dataframe tbody tr th:only-of-type {\n",
              "        vertical-align: middle;\n",
              "    }\n",
              "\n",
              "    .dataframe tbody tr th {\n",
              "        vertical-align: top;\n",
              "    }\n",
              "\n",
              "    .dataframe thead th {\n",
              "        text-align: right;\n",
              "    }\n",
              "</style>\n",
              "<table border=\"1\" class=\"dataframe\">\n",
              "  <thead>\n",
              "    <tr style=\"text-align: right;\">\n",
              "      <th></th>\n",
              "      <th>Result</th>\n",
              "    </tr>\n",
              "  </thead>\n",
              "  <tbody>\n",
              "    <tr>\n",
              "      <th>Accuracy</th>\n",
              "      <td>0.869906</td>\n",
              "    </tr>\n",
              "    <tr>\n",
              "      <th>Precision</th>\n",
              "      <td>0.811794</td>\n",
              "    </tr>\n",
              "    <tr>\n",
              "      <th>Recall</th>\n",
              "      <td>0.682880</td>\n",
              "    </tr>\n",
              "    <tr>\n",
              "      <th>F1 Score</th>\n",
              "      <td>0.728005</td>\n",
              "    </tr>\n",
              "  </tbody>\n",
              "</table>\n",
              "</div>\n",
              "      <button class=\"colab-df-convert\" onclick=\"convertToInteractive('df-8d9da5c7-743c-4181-b6d9-977d6d9a9698')\"\n",
              "              title=\"Convert this dataframe to an interactive table.\"\n",
              "              style=\"display:none;\">\n",
              "        \n",
              "  <svg xmlns=\"http://www.w3.org/2000/svg\" height=\"24px\"viewBox=\"0 0 24 24\"\n",
              "       width=\"24px\">\n",
              "    <path d=\"M0 0h24v24H0V0z\" fill=\"none\"/>\n",
              "    <path d=\"M18.56 5.44l.94 2.06.94-2.06 2.06-.94-2.06-.94-.94-2.06-.94 2.06-2.06.94zm-11 1L8.5 8.5l.94-2.06 2.06-.94-2.06-.94L8.5 2.5l-.94 2.06-2.06.94zm10 10l.94 2.06.94-2.06 2.06-.94-2.06-.94-.94-2.06-.94 2.06-2.06.94z\"/><path d=\"M17.41 7.96l-1.37-1.37c-.4-.4-.92-.59-1.43-.59-.52 0-1.04.2-1.43.59L10.3 9.45l-7.72 7.72c-.78.78-.78 2.05 0 2.83L4 21.41c.39.39.9.59 1.41.59.51 0 1.02-.2 1.41-.59l7.78-7.78 2.81-2.81c.8-.78.8-2.07 0-2.86zM5.41 20L4 18.59l7.72-7.72 1.47 1.35L5.41 20z\"/>\n",
              "  </svg>\n",
              "      </button>\n",
              "      \n",
              "  <style>\n",
              "    .colab-df-container {\n",
              "      display:flex;\n",
              "      flex-wrap:wrap;\n",
              "      gap: 12px;\n",
              "    }\n",
              "\n",
              "    .colab-df-convert {\n",
              "      background-color: #E8F0FE;\n",
              "      border: none;\n",
              "      border-radius: 50%;\n",
              "      cursor: pointer;\n",
              "      display: none;\n",
              "      fill: #1967D2;\n",
              "      height: 32px;\n",
              "      padding: 0 0 0 0;\n",
              "      width: 32px;\n",
              "    }\n",
              "\n",
              "    .colab-df-convert:hover {\n",
              "      background-color: #E2EBFA;\n",
              "      box-shadow: 0px 1px 2px rgba(60, 64, 67, 0.3), 0px 1px 3px 1px rgba(60, 64, 67, 0.15);\n",
              "      fill: #174EA6;\n",
              "    }\n",
              "\n",
              "    [theme=dark] .colab-df-convert {\n",
              "      background-color: #3B4455;\n",
              "      fill: #D2E3FC;\n",
              "    }\n",
              "\n",
              "    [theme=dark] .colab-df-convert:hover {\n",
              "      background-color: #434B5C;\n",
              "      box-shadow: 0px 1px 3px 1px rgba(0, 0, 0, 0.15);\n",
              "      filter: drop-shadow(0px 1px 2px rgba(0, 0, 0, 0.3));\n",
              "      fill: #FFFFFF;\n",
              "    }\n",
              "  </style>\n",
              "\n",
              "      <script>\n",
              "        const buttonEl =\n",
              "          document.querySelector('#df-8d9da5c7-743c-4181-b6d9-977d6d9a9698 button.colab-df-convert');\n",
              "        buttonEl.style.display =\n",
              "          google.colab.kernel.accessAllowed ? 'block' : 'none';\n",
              "\n",
              "        async function convertToInteractive(key) {\n",
              "          const element = document.querySelector('#df-8d9da5c7-743c-4181-b6d9-977d6d9a9698');\n",
              "          const dataTable =\n",
              "            await google.colab.kernel.invokeFunction('convertToInteractive',\n",
              "                                                     [key], {});\n",
              "          if (!dataTable) return;\n",
              "\n",
              "          const docLinkHtml = 'Like what you see? Visit the ' +\n",
              "            '<a target=\"_blank\" href=https://colab.research.google.com/notebooks/data_table.ipynb>data table notebook</a>'\n",
              "            + ' to learn more about interactive tables.';\n",
              "          element.innerHTML = '';\n",
              "          dataTable['output_type'] = 'display_data';\n",
              "          await google.colab.output.renderOutput(dataTable, element);\n",
              "          const docLink = document.createElement('div');\n",
              "          docLink.innerHTML = docLinkHtml;\n",
              "          element.appendChild(docLink);\n",
              "        }\n",
              "      </script>\n",
              "    </div>\n",
              "  </div>\n",
              "  "
            ]
          },
          "metadata": {},
          "execution_count": 29
        }
      ]
    },
    {
      "cell_type": "code",
      "source": [
        "print(\"Classification Report :\\n\")\n",
        "y_pred = best_decision_classifier.predict(X_test)\n",
        "print(classification_report(y_test, y_pred))"
      ],
      "metadata": {
        "colab": {
          "base_uri": "https://localhost:8080/"
        },
        "id": "LEyhrp6GgLUA",
        "outputId": "26092411-4b1d-4202-bff7-83f060e79337"
      },
      "execution_count": null,
      "outputs": [
        {
          "output_type": "stream",
          "name": "stdout",
          "text": [
            "Classification Report :\n",
            "\n",
            "              precision    recall  f1-score   support\n",
            "\n",
            "         1.0       0.91      0.97      0.94       490\n",
            "         2.0       0.63      0.58      0.61        96\n",
            "         3.0       0.90      0.50      0.64        52\n",
            "\n",
            "    accuracy                           0.87       638\n",
            "   macro avg       0.81      0.68      0.73       638\n",
            "weighted avg       0.87      0.87      0.86       638\n",
            "\n"
          ]
        }
      ]
    },
    {
      "cell_type": "markdown",
      "source": [
        "As we can see from with and without hyper parameters tuning , with best parameters chosen for DecisionTree classifier we were able to achieve accuracy to 87 % and also in case of macro avg class , the precision has increased."
      ],
      "metadata": {
        "id": "ypboGIB0rJDq"
      }
    }
  ]
}